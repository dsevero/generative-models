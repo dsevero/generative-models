{
  "nbformat": 4,
  "nbformat_minor": 0,
  "metadata": {
    "colab": {
      "name": "Untitled2.ipynb",
      "version": "0.3.2",
      "provenance": [],
      "include_colab_link": true
    },
    "kernelspec": {
      "name": "python3",
      "display_name": "Python 3"
    }
  },
  "cells": [
    {
      "cell_type": "markdown",
      "metadata": {
        "id": "view-in-github",
        "colab_type": "text"
      },
      "source": [
        "<a href=\"https://colab.research.google.com/github/dsevero/generative-models/blob/master/experiments/GAN/notebooks/goodfellow_2014.ipynb\" target=\"_parent\"><img src=\"https://colab.research.google.com/assets/colab-badge.svg\" alt=\"Open In Colab\"/></a>"
      ]
    },
    {
      "cell_type": "markdown",
      "metadata": {
        "id": "GVCHBrRRuUUY",
        "colab_type": "text"
      },
      "source": [
        "# Generative Adversarial Nets (Goodfellow 2014)\n",
        "https://arxiv.org/pdf/1406.2661.pdf"
      ]
    },
    {
      "cell_type": "code",
      "metadata": {
        "id": "lyDcYCjnhb0R",
        "colab_type": "code",
        "colab": {
          "base_uri": "https://localhost:8080/",
          "height": 91
        },
        "outputId": "c7711dfd-d95e-447e-8983-09abea4c1084"
      },
      "source": [
        "!nvcc --version"
      ],
      "execution_count": 1,
      "outputs": [
        {
          "output_type": "stream",
          "text": [
            "nvcc: NVIDIA (R) Cuda compiler driver\n",
            "Copyright (c) 2005-2018 NVIDIA Corporation\n",
            "Built on Sat_Aug_25_21:08:01_CDT_2018\n",
            "Cuda compilation tools, release 10.0, V10.0.130\n"
          ],
          "name": "stdout"
        }
      ]
    },
    {
      "cell_type": "code",
      "metadata": {
        "id": "I1pQTYwsDlAQ",
        "colab_type": "code",
        "colab": {}
      },
      "source": [
        "%matplotlib inline"
      ],
      "execution_count": 0,
      "outputs": []
    },
    {
      "cell_type": "code",
      "metadata": {
        "id": "vPDM2dRnt5gH",
        "colab_type": "code",
        "colab": {
          "base_uri": "https://localhost:8080/",
          "height": 35
        },
        "outputId": "2b02b927-22d3-4329-bea2-d4baac346b93"
      },
      "source": [
        "# necessary for autograd compatibility\n",
        "!pip install scipy==1.1.0 -q\n",
        "\n",
        "# update tensorflow\n",
        "!pip install tensorflow==2.0.0b1 -q"
      ],
      "execution_count": 30,
      "outputs": [
        {
          "output_type": "stream",
          "text": [
            "\u001b[31mERROR: albumentations 0.1.12 has requirement imgaug<0.2.7,>=0.2.5, but you'll have imgaug 0.2.9 which is incompatible.\u001b[0m\n"
          ],
          "name": "stdout"
        }
      ]
    },
    {
      "cell_type": "code",
      "metadata": {
        "id": "5INWa4setf75",
        "colab_type": "code",
        "colab": {}
      },
      "source": [
        "import autograd.numpy as np\n",
        "import autograd.numpy.random as npr\n",
        "import warnings\n",
        "import tensorflow as tf\n",
        "import matplotlib.pyplot as plt\n",
        "from autograd import grad\n",
        "from autograd.misc import flatten\n",
        "from autograd.misc.optimizers import adam, rmsprop, sgd\n",
        "from scipy.stats import norm\n",
        "\n",
        "\n",
        "warnings.simplefilter(action='ignore', category=FutureWarning)"
      ],
      "execution_count": 0,
      "outputs": []
    },
    {
      "cell_type": "code",
      "metadata": {
        "id": "oSdGVpxdD-Aw",
        "colab_type": "code",
        "colab": {}
      },
      "source": [
        "def show_image(image):\n",
        "    plt.imshow(image, cmap='gray')\n",
        "    plt.axis('off')"
      ],
      "execution_count": 0,
      "outputs": []
    },
    {
      "cell_type": "markdown",
      "metadata": {
        "id": "p756YZQnvFZp",
        "colab_type": "text"
      },
      "source": [
        "## Definitions and Tests"
      ]
    },
    {
      "cell_type": "code",
      "metadata": {
        "id": "YIimoT6YsJER",
        "colab_type": "code",
        "colab": {}
      },
      "source": [
        "# reference: \n",
        "# https://github.com/HIPS/autograd/blob/master/examples/generative_adversarial_net.py\n",
        "\n",
        "def relu(x):       \n",
        "    return np.maximum(0, x)\n",
        "\n",
        "def sigmoid(x):    \n",
        "    return 0.5 * (np.tanh(x) + 1.0)\n",
        "\n",
        "def logsigmoid(x): \n",
        "    return x - np.logaddexp(0, x)\n",
        "\n",
        "def init_random_params(scale, layer_sizes, rs=npr.RandomState(0)):\n",
        "    \"\"\"Build a list of (weights, biases) tuples,\n",
        "       one for each layer in the net.\"\"\"\n",
        "    return [(scale * rs.randn(m, n),   # weight matrix\n",
        "             scale * rs.randn(n))      # bias vector\n",
        "            for m, n in zip(layer_sizes[:-1], layer_sizes[1:])]\n",
        "\n",
        "def batch_normalize(activations):\n",
        "    mbmean = np.mean(activations, axis=0, keepdims=True)\n",
        "    return (activations - mbmean) / (np.std(activations, axis=0, keepdims=True) + 1)\n",
        "\n",
        "def neural_net_predict(params, inputs, use_batch_norm=True):\n",
        "    \"\"\"Params is a list of (weights, bias) tuples.\n",
        "       inputs is an (N x D) matrix.\"\"\"\n",
        "    inpW, inpb = params[0]\n",
        "    inputs = relu(np.dot(inputs, inpW) + inpb)\n",
        "    for W, b in params[1:-1]:\n",
        "        outputs = np.dot(inputs, W) + b\n",
        "        if use_batch_norm:\n",
        "            outputs = batch_normalize(outputs)\n",
        "        inputs = relu(outputs)\n",
        "    outW, outb = params[-1]\n",
        "    outputs = np.dot(inputs, outW) + outb\n",
        "    return outputs\n",
        "\n",
        "def generator(params, noise):\n",
        "    samples = neural_net_predict(params, noise)\n",
        "    return sigmoid(samples)\n",
        "\n",
        "def discriminator(params, inputs):\n",
        "    samples = neural_net_predict(params, inputs)\n",
        "    return sigmoid(samples)"
      ],
      "execution_count": 0,
      "outputs": []
    },
    {
      "cell_type": "code",
      "metadata": {
        "id": "4DA1eNmWvM4g",
        "colab_type": "code",
        "colab": {}
      },
      "source": [
        "params = 5*((np.eye(3), np.zeros(3)),)\n",
        "x =  npr.randn(9).reshape((3,3))\n",
        "zeros = np.array([0, 0, 0])\n",
        "\n",
        "assert (batch_normalize(zeros) == zeros).all()\n",
        "assert (batch_normalize(np.array([-1, 1])) == np.array([-0.5, 0.5])).all()\n",
        "assert (batch_normalize(np.array([[-1, 1], [-2, 2]])) == np.array([[1/3, -1/3], [-1/3, 1/3]])).all()\n",
        "\n",
        "assert (neural_net_predict(params, x, False) == relu(x)).all()"
      ],
      "execution_count": 0,
      "outputs": []
    },
    {
      "cell_type": "markdown",
      "metadata": {
        "id": "7buAOgGK6FuJ",
        "colab_type": "text"
      },
      "source": [
        "## 5 Experiments (MNIST)"
      ]
    },
    {
      "cell_type": "code",
      "metadata": {
        "id": "kLYwGW7U6YqN",
        "colab_type": "code",
        "colab": {
          "base_uri": "https://localhost:8080/",
          "height": 35
        },
        "outputId": "8cc63ab7-3c5d-497a-8402-c42bcbafe22e"
      },
      "source": [
        "# Training parameters\n",
        "param_scale = 0.001\n",
        "batch_size = 100 # must divide 70_000.\n",
        "num_epochs = 50\n",
        "num_batches = int(70_000/batch_size)\n",
        "\n",
        "\n",
        "# Load, concatenate and reshape the data.\n",
        "# Here we don't distinguish between train and test.\n",
        "# Final dimensions are (batch, image_example, image_row, image_column)\n",
        "(train_images, _), (test_images, _) = tf.keras.datasets.mnist.load_data()\n",
        "images = (np.concatenate((train_images, test_images))\n",
        "            .reshape((num_batches, batch_size, 28, 28))) / 255\n",
        "\n",
        "# Model hyper-parameters\n",
        "noise_dim = 10\n",
        "gen_layer_sizes = [noise_dim, 200, 784]\n",
        "dsc_layer_sizes = [gen_layer_sizes[-1], 200, 1]\n",
        "\n",
        "# Initialize NN params. for G and D\n",
        "init_gen_params = init_random_params(param_scale, gen_layer_sizes)\n",
        "init_dsc_params = init_random_params(param_scale, dsc_layer_sizes)\n",
        "\n",
        "print('images.shape:', images.shape)"
      ],
      "execution_count": 41,
      "outputs": [
        {
          "output_type": "stream",
          "text": [
            "images.shape: (700, 100, 28, 28)\n"
          ],
          "name": "stdout"
        }
      ]
    },
    {
      "cell_type": "code",
      "metadata": {
        "id": "h15wslYoDSjg",
        "colab_type": "code",
        "colab": {
          "base_uri": "https://localhost:8080/",
          "height": 265
        },
        "outputId": "730d67a2-b49e-44d1-dbda-5a581fdac820"
      },
      "source": [
        "# Real image\n",
        "show_image(images[0, 0])"
      ],
      "execution_count": 36,
      "outputs": [
        {
          "output_type": "display_data",
          "data": {
            "image/png": "[encoded data removed]",
            "text/plain": [
              "<Figure size 432x288 with 1 Axes>"
            ]
          },
          "metadata": {
            "tags": []
          }
        }
      ]
    },
    {
      "cell_type": "code",
      "metadata": {
        "id": "KTx70Qo9Gwil",
        "colab_type": "code",
        "colab": {
          "base_uri": "https://localhost:8080/",
          "height": 283
        },
        "outputId": "d5b6ff80-1e11-4171-dc97-573a38efeed4"
      },
      "source": [
        "# Initial random image from G\n",
        "z = random.rand(1, noise_dim)\n",
        "fake_image = generator(init_gen_params, z)\n",
        "show_image(fake_image.reshape(28, 28))\n",
        "\n",
        "# What D knows about the random image (i.e. nothing!)\n",
        "discriminator(init_dsc_params, fake_image)"
      ],
      "execution_count": 37,
      "outputs": [
        {
          "output_type": "execute_result",
          "data": {
            "text/plain": [
              "array([[0.50065436]])"
            ]
          },
          "metadata": {
            "tags": []
          },
          "execution_count": 37
        },
        {
          "output_type": "display_data",
          "data": {
            "image/png": "[encoded data removed]",
            "text/plain": [
              "<Figure size 432x288 with 1 Axes>"
            ]
          },
          "metadata": {
            "tags": []
          }
        }
      ]
    },
    {
      "cell_type": "code",
      "metadata": {
        "id": "4R4Kj-_ZNcri",
        "colab_type": "code",
        "colab": {
          "base_uri": "https://localhost:8080/",
          "height": 109
        },
        "outputId": "9c3a022a-b693-4f48-ecd9-d88080fd4a51"
      },
      "source": [
        "# Even real images he has no clue on what is going on!\n",
        "five_real_images = images[0, :5]\n",
        "discriminator(init_dsc_params, five_real_images.reshape(5, 28*28))"
      ],
      "execution_count": 38,
      "outputs": [
        {
          "output_type": "execute_result",
          "data": {
            "text/plain": [
              "array([[0.50073763],\n",
              "       [0.50070626],\n",
              "       [0.50067908],\n",
              "       [0.50075126],\n",
              "       [0.50075905]])"
            ]
          },
          "metadata": {
            "tags": []
          },
          "execution_count": 38
        }
      ]
    },
    {
      "cell_type": "code",
      "metadata": {
        "id": "FJQ2aop0Ol2L",
        "colab_type": "code",
        "colab": {
          "base_uri": "https://localhost:8080/",
          "height": 1000
        },
        "outputId": "ecd04d34-9e24-4e27-de76-2367ee4c6528"
      },
      "source": [
        "# Train\n",
        "n_dsc_steps = 1\n",
        "params_dsc = init_dsc_params\n",
        "opt = sgd\n",
        "\n",
        "def objective_outer(params_gen, t):\n",
        "    global params_dsc\n",
        "    real_data = images[t % num_batches].reshape(batch_size, 28*28)\n",
        "    \n",
        "    def objective_inner(params_dsc, t):\n",
        "        noise_inner = npr.rand(batch_size, noise_dim)\n",
        "        fake_data_inner = generator(params_gen, noise_inner)\n",
        "        return(np.log(discriminator(params_dsc, real_data)).mean() + \n",
        "               np.log(1 - discriminator(params_dsc, fake_data_inner))).mean()\n",
        "        \n",
        "    params_dsc = opt(grad(objective_inner), params_dsc,\n",
        "                     step_size=0.01, num_iters=n_dsc_steps)\n",
        "    \n",
        "    noise_outer = npr.rand(batch_size, noise_dim)\n",
        "    fake_data_outer = generator(params_gen, noise_outer)\n",
        "    return np.log(discriminator(params_dsc, fake_data_outer)).mean()\n",
        "\n",
        "def callback(params_gen, t, gradient):\n",
        "    noise = npr.rand(batch_size, noise_dim)\n",
        "    fake_data = generator(params_gen, noise)\n",
        "    real_data = images[t % num_batches].reshape(batch_size, 28*28)\n",
        "    probs_fake = discriminator(params_dsc, fake_data).mean()\n",
        "    probs_real = discriminator(params_dsc, real_data).mean()\n",
        "    print(f'Finished iteration {t}; Average real probs: {probs_real}; Average fake probs: {probs_fake}')\n",
        "\n",
        "params_gen = opt(grad(objective_outer), \n",
        "                 init_gen_params,\n",
        "                 step_size=0.01,\n",
        "                 num_iters=num_epochs*num_batches,\n",
        "                 callback=callback)"
      ],
      "execution_count": 42,
      "outputs": [
        {
          "output_type": "stream",
          "text": [
            "Finished iteration 0; Average real probs: Autograd ArrayBox with value 0.4989924682552968; Average fake probs: Autograd ArrayBox with value 0.49910606906369503\n",
            "Finished iteration 1; Average real probs: Autograd ArrayBox with value 0.49900223898352863; Average fake probs: Autograd ArrayBox with value 0.499121746106325\n",
            "Finished iteration 2; Average real probs: Autograd ArrayBox with value 0.4989909211909748; Average fake probs: Autograd ArrayBox with value 0.49913731241520215\n",
            "Finished iteration 3; Average real probs: Autograd ArrayBox with value 0.49898959182098684; Average fake probs: Autograd ArrayBox with value 0.4991531113715583\n",
            "Finished iteration 4; Average real probs: Autograd ArrayBox with value 0.49899491108040295; Average fake probs: Autograd ArrayBox with value 0.49916886164794294\n",
            "Finished iteration 5; Average real probs: Autograd ArrayBox with value 0.4989944515493327; Average fake probs: Autograd ArrayBox with value 0.49918480595009274\n",
            "Finished iteration 6; Average real probs: Autograd ArrayBox with value 0.49899301925847955; Average fake probs: Autograd ArrayBox with value 0.4992004033726558\n",
            "Finished iteration 7; Average real probs: Autograd ArrayBox with value 0.49898834272050685; Average fake probs: Autograd ArrayBox with value 0.4992156236740138\n",
            "Finished iteration 8; Average real probs: Autograd ArrayBox with value 0.4989941194208396; Average fake probs: Autograd ArrayBox with value 0.49923110897364886\n",
            "Finished iteration 9; Average real probs: Autograd ArrayBox with value 0.4989961243206394; Average fake probs: Autograd ArrayBox with value 0.4992468220058961\n",
            "Finished iteration 10; Average real probs: Autograd ArrayBox with value 0.49898783048501777; Average fake probs: Autograd ArrayBox with value 0.4992630477133351\n",
            "Finished iteration 11; Average real probs: Autograd ArrayBox with value 0.4989910766796666; Average fake probs: Autograd ArrayBox with value 0.4992791379451173\n",
            "Finished iteration 12; Average real probs: Autograd ArrayBox with value 0.49899988952901986; Average fake probs: Autograd ArrayBox with value 0.4992937759400956\n",
            "Finished iteration 13; Average real probs: Autograd ArrayBox with value 0.49900482990234907; Average fake probs: Autograd ArrayBox with value 0.4993083803251189\n",
            "Finished iteration 14; Average real probs: Autograd ArrayBox with value 0.49899341991758256; Average fake probs: Autograd ArrayBox with value 0.49932441734315275\n",
            "Finished iteration 15; Average real probs: Autograd ArrayBox with value 0.4989904914488865; Average fake probs: Autograd ArrayBox with value 0.4993408004599993\n",
            "Finished iteration 16; Average real probs: Autograd ArrayBox with value 0.4989931841580482; Average fake probs: Autograd ArrayBox with value 0.49935760992099276\n",
            "Finished iteration 17; Average real probs: Autograd ArrayBox with value 0.4989905408823326; Average fake probs: Autograd ArrayBox with value 0.49937437280645114\n",
            "Finished iteration 18; Average real probs: Autograd ArrayBox with value 0.49899915896997277; Average fake probs: Autograd ArrayBox with value 0.49939122746424963\n",
            "Finished iteration 19; Average real probs: Autograd ArrayBox with value 0.4990048915917391; Average fake probs: Autograd ArrayBox with value 0.49940772251579557\n",
            "Finished iteration 20; Average real probs: Autograd ArrayBox with value 0.4989983384458948; Average fake probs: Autograd ArrayBox with value 0.49942442160835765\n",
            "Finished iteration 21; Average real probs: Autograd ArrayBox with value 0.4989980130447951; Average fake probs: Autograd ArrayBox with value 0.49944172108718726\n",
            "Finished iteration 22; Average real probs: Autograd ArrayBox with value 0.49900684089089026; Average fake probs: Autograd ArrayBox with value 0.4994590008979135\n",
            "Finished iteration 23; Average real probs: Autograd ArrayBox with value 0.49899744711204685; Average fake probs: Autograd ArrayBox with value 0.4994767741937003\n",
            "Finished iteration 24; Average real probs: Autograd ArrayBox with value 0.4989914976144663; Average fake probs: Autograd ArrayBox with value 0.49949478063303787\n",
            "Finished iteration 25; Average real probs: Autograd ArrayBox with value 0.4990028269838931; Average fake probs: Autograd ArrayBox with value 0.49951224844822417\n",
            "Finished iteration 26; Average real probs: Autograd ArrayBox with value 0.4989920776461356; Average fake probs: Autograd ArrayBox with value 0.499530542316186\n",
            "Finished iteration 27; Average real probs: Autograd ArrayBox with value 0.49901319901170926; Average fake probs: Autograd ArrayBox with value 0.499548922882244\n",
            "Finished iteration 28; Average real probs: Autograd ArrayBox with value 0.4990125783059314; Average fake probs: Autograd ArrayBox with value 0.4995672496983357\n",
            "Finished iteration 29; Average real probs: Autograd ArrayBox with value 0.4989897311548337; Average fake probs: Autograd ArrayBox with value 0.4995866293522478\n",
            "Finished iteration 30; Average real probs: Autograd ArrayBox with value 0.498999137770869; Average fake probs: Autograd ArrayBox with value 0.4996061339303736\n",
            "Finished iteration 31; Average real probs: Autograd ArrayBox with value 0.49898943660634676; Average fake probs: Autograd ArrayBox with value 0.49962586756998706\n",
            "Finished iteration 32; Average real probs: Autograd ArrayBox with value 0.49899208553893304; Average fake probs: Autograd ArrayBox with value 0.4996460823679038\n",
            "Finished iteration 33; Average real probs: Autograd ArrayBox with value 0.4989996798297788; Average fake probs: Autograd ArrayBox with value 0.49966609773126036\n",
            "Finished iteration 34; Average real probs: Autograd ArrayBox with value 0.49898982912213535; Average fake probs: Autograd ArrayBox with value 0.49968719539803713\n",
            "Finished iteration 35; Average real probs: Autograd ArrayBox with value 0.49901883179234213; Average fake probs: Autograd ArrayBox with value 0.4997078372627604\n",
            "Finished iteration 36; Average real probs: Autograd ArrayBox with value 0.49902364233831875; Average fake probs: Autograd ArrayBox with value 0.49972830048857064\n",
            "Finished iteration 37; Average real probs: Autograd ArrayBox with value 0.4990243190713949; Average fake probs: Autograd ArrayBox with value 0.49974957102874984\n",
            "Finished iteration 38; Average real probs: Autograd ArrayBox with value 0.4990089138253555; Average fake probs: Autograd ArrayBox with value 0.49977193934194497\n",
            "Finished iteration 39; Average real probs: Autograd ArrayBox with value 0.4990080996406142; Average fake probs: Autograd ArrayBox with value 0.49979481539358306\n",
            "Finished iteration 40; Average real probs: Autograd ArrayBox with value 0.49901542671949284; Average fake probs: Autograd ArrayBox with value 0.49981765801040623\n",
            "Finished iteration 41; Average real probs: Autograd ArrayBox with value 0.4990005924031361; Average fake probs: Autograd ArrayBox with value 0.4998416334575618\n",
            "Finished iteration 42; Average real probs: Autograd ArrayBox with value 0.49902526341975184; Average fake probs: Autograd ArrayBox with value 0.4998651093002506\n",
            "Finished iteration 43; Average real probs: Autograd ArrayBox with value 0.4990130341724794; Average fake probs: Autograd ArrayBox with value 0.49988990715621\n",
            "Finished iteration 44; Average real probs: Autograd ArrayBox with value 0.4990243553770254; Average fake probs: Autograd ArrayBox with value 0.4999147633770036\n",
            "Finished iteration 45; Average real probs: Autograd ArrayBox with value 0.49902930740119694; Average fake probs: Autograd ArrayBox with value 0.49993966591662015\n",
            "Finished iteration 46; Average real probs: Autograd ArrayBox with value 0.4990472479223995; Average fake probs: Autograd ArrayBox with value 0.49996434468324347\n",
            "Finished iteration 47; Average real probs: Autograd ArrayBox with value 0.49906454178758225; Average fake probs: Autograd ArrayBox with value 0.4999899681834769\n",
            "Finished iteration 48; Average real probs: Autograd ArrayBox with value 0.49908158773754374; Average fake probs: Autograd ArrayBox with value 0.5000155515552314\n",
            "Finished iteration 49; Average real probs: Autograd ArrayBox with value 0.499027962666628; Average fake probs: Autograd ArrayBox with value 0.5000431581513576\n",
            "Finished iteration 50; Average real probs: Autograd ArrayBox with value 0.49903552143680696; Average fake probs: Autograd ArrayBox with value 0.5000705306742499\n",
            "Finished iteration 51; Average real probs: Autograd ArrayBox with value 0.499046389070649; Average fake probs: Autograd ArrayBox with value 0.5000982207988347\n",
            "Finished iteration 52; Average real probs: Autograd ArrayBox with value 0.4990332334694108; Average fake probs: Autograd ArrayBox with value 0.5001270485939453\n",
            "Finished iteration 53; Average real probs: Autograd ArrayBox with value 0.49906322437752204; Average fake probs: Autograd ArrayBox with value 0.5001554330827326\n",
            "Finished iteration 54; Average real probs: Autograd ArrayBox with value 0.4990343960719565; Average fake probs: Autograd ArrayBox with value 0.5001851423544444\n",
            "Finished iteration 55; Average real probs: Autograd ArrayBox with value 0.49903967806361904; Average fake probs: Autograd ArrayBox with value 0.5002155789234412\n",
            "Finished iteration 56; Average real probs: Autograd ArrayBox with value 0.49904651477498674; Average fake probs: Autograd ArrayBox with value 0.5002468442384599\n",
            "Finished iteration 57; Average real probs: Autograd ArrayBox with value 0.4990306334951013; Average fake probs: Autograd ArrayBox with value 0.5002795212023673\n",
            "Finished iteration 58; Average real probs: Autograd ArrayBox with value 0.4990320508072424; Average fake probs: Autograd ArrayBox with value 0.5003129056760552\n",
            "Finished iteration 59; Average real probs: Autograd ArrayBox with value 0.4990600795798067; Average fake probs: Autograd ArrayBox with value 0.5003454919428182\n",
            "Finished iteration 60; Average real probs: Autograd ArrayBox with value 0.49908731928254246; Average fake probs: Autograd ArrayBox with value 0.5003775202228842\n",
            "Finished iteration 61; Average real probs: Autograd ArrayBox with value 0.49909883023793283; Average fake probs: Autograd ArrayBox with value 0.5004104306015735\n",
            "Finished iteration 62; Average real probs: Autograd ArrayBox with value 0.49905576125221585; Average fake probs: Autograd ArrayBox with value 0.5004453903774176\n",
            "Finished iteration 63; Average real probs: Autograd ArrayBox with value 0.4990739253775152; Average fake probs: Autograd ArrayBox with value 0.5004809468215445\n",
            "Finished iteration 64; Average real probs: Autograd ArrayBox with value 0.4990648724051407; Average fake probs: Autograd ArrayBox with value 0.5005181721754803\n",
            "Finished iteration 65; Average real probs: Autograd ArrayBox with value 0.4990574329807118; Average fake probs: Autograd ArrayBox with value 0.500556646357524\n",
            "Finished iteration 66; Average real probs: Autograd ArrayBox with value 0.49905249123401924; Average fake probs: Autograd ArrayBox with value 0.5005963112010943\n",
            "Finished iteration 67; Average real probs: Autograd ArrayBox with value 0.49904493450633697; Average fake probs: Autograd ArrayBox with value 0.5006380427826297\n",
            "Finished iteration 68; Average real probs: Autograd ArrayBox with value 0.4990764928225018; Average fake probs: Autograd ArrayBox with value 0.5006793220685215\n",
            "Finished iteration 69; Average real probs: Autograd ArrayBox with value 0.49909374077238156; Average fake probs: Autograd ArrayBox with value 0.500720154027016\n",
            "Finished iteration 70; Average real probs: Autograd ArrayBox with value 0.4990840377080993; Average fake probs: Autograd ArrayBox with value 0.5007631983786697\n",
            "Finished iteration 71; Average real probs: Autograd ArrayBox with value 0.4990822441757268; Average fake probs: Autograd ArrayBox with value 0.5008076917530662\n",
            "Finished iteration 72; Average real probs: Autograd ArrayBox with value 0.4990810607931697; Average fake probs: Autograd ArrayBox with value 0.5008536750541333\n",
            "Finished iteration 73; Average real probs: Autograd ArrayBox with value 0.4990625616890322; Average fake probs: Autograd ArrayBox with value 0.5009017274864287\n",
            "Finished iteration 74; Average real probs: Autograd ArrayBox with value 0.49908747601739356; Average fake probs: Autograd ArrayBox with value 0.5009498714829131\n",
            "Finished iteration 75; Average real probs: Autograd ArrayBox with value 0.49910434598972886; Average fake probs: Autograd ArrayBox with value 0.5009989346682864\n",
            "Finished iteration 76; Average real probs: Autograd ArrayBox with value 0.49911834348944745; Average fake probs: Autograd ArrayBox with value 0.5010481609711805\n",
            "Finished iteration 77; Average real probs: Autograd ArrayBox with value 0.4991132152031976; Average fake probs: Autograd ArrayBox with value 0.5010991365197228\n",
            "Finished iteration 78; Average real probs: Autograd ArrayBox with value 0.4991825532351597; Average fake probs: Autograd ArrayBox with value 0.5011489599420844\n",
            "Finished iteration 79; Average real probs: Autograd ArrayBox with value 0.4991902057118305; Average fake probs: Autograd ArrayBox with value 0.5011995286015953\n",
            "Finished iteration 80; Average real probs: Autograd ArrayBox with value 0.49920595163073955; Average fake probs: Autograd ArrayBox with value 0.5012511006171243\n",
            "Finished iteration 81; Average real probs: Autograd ArrayBox with value 0.4991210654143329; Average fake probs: Autograd ArrayBox with value 0.5013079470855457\n",
            "Finished iteration 82; Average real probs: Autograd ArrayBox with value 0.499160774249259; Average fake probs: Autograd ArrayBox with value 0.5013642450184467\n",
            "Finished iteration 83; Average real probs: Autograd ArrayBox with value 0.49917536268075424; Average fake probs: Autograd ArrayBox with value 0.5014210151640909\n",
            "Finished iteration 84; Average real probs: Autograd ArrayBox with value 0.4992124164911516; Average fake probs: Autograd ArrayBox with value 0.5014780611852744\n",
            "Finished iteration 85; Average real probs: Autograd ArrayBox with value 0.4992522090043018; Average fake probs: Autograd ArrayBox with value 0.501534867733348\n",
            "Finished iteration 86; Average real probs: Autograd ArrayBox with value 0.4992483806784957; Average fake probs: Autograd ArrayBox with value 0.5015935986521061\n",
            "Finished iteration 87; Average real probs: Autograd ArrayBox with value 0.4991969607809355; Average fake probs: Autograd ArrayBox with value 0.5016559908430459\n",
            "Finished iteration 88; Average real probs: Autograd ArrayBox with value 0.49918182225107843; Average fake probs: Autograd ArrayBox with value 0.5017208985367285\n",
            "Finished iteration 89; Average real probs: Autograd ArrayBox with value 0.4992239039645275; Average fake probs: Autograd ArrayBox with value 0.501786641835504\n",
            "Finished iteration 90; Average real probs: Autograd ArrayBox with value 0.4992235912268883; Average fake probs: Autograd ArrayBox with value 0.5018541874618806\n",
            "Finished iteration 91; Average real probs: Autograd ArrayBox with value 0.499216290768655; Average fake probs: Autograd ArrayBox with value 0.5019247001988343\n",
            "Finished iteration 92; Average real probs: Autograd ArrayBox with value 0.49919570523362133; Average fake probs: Autograd ArrayBox with value 0.5019978811492991\n",
            "Finished iteration 93; Average real probs: Autograd ArrayBox with value 0.4993049371635026; Average fake probs: Autograd ArrayBox with value 0.5020683558654068\n",
            "Finished iteration 94; Average real probs: Autograd ArrayBox with value 0.49932397518824617; Average fake probs: Autograd ArrayBox with value 0.5021405835481774\n"
          ],
          "name": "stdout"
        },
        {
          "output_type": "error",
          "ename": "KeyboardInterrupt",
          "evalue": "ignored",
          "traceback": [
            "\u001b[0;31m---------------------------------------------------------------------------\u001b[0m",
            "\u001b[0;31mKeyboardInterrupt\u001b[0m                         Traceback (most recent call last)",
            "\u001b[0;32m<ipython-input-42-8dd7a734b0af>\u001b[0m in \u001b[0;36m<module>\u001b[0;34m()\u001b[0m\n\u001b[1;32m     32\u001b[0m                  \u001b[0mstep_size\u001b[0m\u001b[0;34m=\u001b[0m\u001b[0;36m0.01\u001b[0m\u001b[0;34m,\u001b[0m\u001b[0;34m\u001b[0m\u001b[0;34m\u001b[0m\u001b[0m\n\u001b[1;32m     33\u001b[0m                  \u001b[0mnum_iters\u001b[0m\u001b[0;34m=\u001b[0m\u001b[0mnum_epochs\u001b[0m\u001b[0;34m*\u001b[0m\u001b[0mnum_batches\u001b[0m\u001b[0;34m,\u001b[0m\u001b[0;34m\u001b[0m\u001b[0;34m\u001b[0m\u001b[0m\n\u001b[0;32m---> 34\u001b[0;31m                  callback=callback)\n\u001b[0m",
            "\u001b[0;32m/usr/local/lib/python3.6/dist-packages/autograd/misc/optimizers.py\u001b[0m in \u001b[0;36m_optimize\u001b[0;34m(grad, x0, callback, *args, **kwargs)\u001b[0m\n\u001b[1;32m     26\u001b[0m         \u001b[0;32melse\u001b[0m\u001b[0;34m:\u001b[0m\u001b[0;34m\u001b[0m\u001b[0;34m\u001b[0m\u001b[0m\n\u001b[1;32m     27\u001b[0m             \u001b[0m_callback\u001b[0m \u001b[0;34m=\u001b[0m \u001b[0;32mNone\u001b[0m\u001b[0;34m\u001b[0m\u001b[0;34m\u001b[0m\u001b[0m\n\u001b[0;32m---> 28\u001b[0;31m         \u001b[0;32mreturn\u001b[0m \u001b[0munflatten\u001b[0m\u001b[0;34m(\u001b[0m\u001b[0moptimize\u001b[0m\u001b[0;34m(\u001b[0m\u001b[0m_grad\u001b[0m\u001b[0;34m,\u001b[0m \u001b[0m_x0\u001b[0m\u001b[0;34m,\u001b[0m \u001b[0m_callback\u001b[0m\u001b[0;34m,\u001b[0m \u001b[0;34m*\u001b[0m\u001b[0margs\u001b[0m\u001b[0;34m,\u001b[0m \u001b[0;34m**\u001b[0m\u001b[0mkwargs\u001b[0m\u001b[0;34m)\u001b[0m\u001b[0;34m)\u001b[0m\u001b[0;34m\u001b[0m\u001b[0;34m\u001b[0m\u001b[0m\n\u001b[0m\u001b[1;32m     29\u001b[0m \u001b[0;34m\u001b[0m\u001b[0m\n\u001b[1;32m     30\u001b[0m     \u001b[0;32mreturn\u001b[0m \u001b[0m_optimize\u001b[0m\u001b[0;34m\u001b[0m\u001b[0;34m\u001b[0m\u001b[0m\n",
            "\u001b[0;32m/usr/local/lib/python3.6/dist-packages/autograd/misc/optimizers.py\u001b[0m in \u001b[0;36msgd\u001b[0;34m(grad, x, callback, num_iters, step_size, mass)\u001b[0m\n\u001b[1;32m     36\u001b[0m     \u001b[0mvelocity\u001b[0m \u001b[0;34m=\u001b[0m \u001b[0mnp\u001b[0m\u001b[0;34m.\u001b[0m\u001b[0mzeros\u001b[0m\u001b[0;34m(\u001b[0m\u001b[0mlen\u001b[0m\u001b[0;34m(\u001b[0m\u001b[0mx\u001b[0m\u001b[0;34m)\u001b[0m\u001b[0;34m)\u001b[0m\u001b[0;34m\u001b[0m\u001b[0;34m\u001b[0m\u001b[0m\n\u001b[1;32m     37\u001b[0m     \u001b[0;32mfor\u001b[0m \u001b[0mi\u001b[0m \u001b[0;32min\u001b[0m \u001b[0mrange\u001b[0m\u001b[0;34m(\u001b[0m\u001b[0mnum_iters\u001b[0m\u001b[0;34m)\u001b[0m\u001b[0;34m:\u001b[0m\u001b[0;34m\u001b[0m\u001b[0;34m\u001b[0m\u001b[0m\n\u001b[0;32m---> 38\u001b[0;31m         \u001b[0mg\u001b[0m \u001b[0;34m=\u001b[0m \u001b[0mgrad\u001b[0m\u001b[0;34m(\u001b[0m\u001b[0mx\u001b[0m\u001b[0;34m,\u001b[0m \u001b[0mi\u001b[0m\u001b[0;34m)\u001b[0m\u001b[0;34m\u001b[0m\u001b[0;34m\u001b[0m\u001b[0m\n\u001b[0m\u001b[1;32m     39\u001b[0m         \u001b[0;32mif\u001b[0m \u001b[0mcallback\u001b[0m\u001b[0;34m:\u001b[0m \u001b[0mcallback\u001b[0m\u001b[0;34m(\u001b[0m\u001b[0mx\u001b[0m\u001b[0;34m,\u001b[0m \u001b[0mi\u001b[0m\u001b[0;34m,\u001b[0m \u001b[0mg\u001b[0m\u001b[0;34m)\u001b[0m\u001b[0;34m\u001b[0m\u001b[0;34m\u001b[0m\u001b[0m\n\u001b[1;32m     40\u001b[0m         \u001b[0mvelocity\u001b[0m \u001b[0;34m=\u001b[0m \u001b[0mmass\u001b[0m \u001b[0;34m*\u001b[0m \u001b[0mvelocity\u001b[0m \u001b[0;34m-\u001b[0m \u001b[0;34m(\u001b[0m\u001b[0;36m1.0\u001b[0m \u001b[0;34m-\u001b[0m \u001b[0mmass\u001b[0m\u001b[0;34m)\u001b[0m \u001b[0;34m*\u001b[0m \u001b[0mg\u001b[0m\u001b[0;34m\u001b[0m\u001b[0;34m\u001b[0m\u001b[0m\n",
            "\u001b[0;32m/usr/local/lib/python3.6/dist-packages/autograd/misc/optimizers.py\u001b[0m in \u001b[0;36m<lambda>\u001b[0;34m(x, i)\u001b[0m\n\u001b[1;32m     21\u001b[0m     \u001b[0;32mdef\u001b[0m \u001b[0m_optimize\u001b[0m\u001b[0;34m(\u001b[0m\u001b[0mgrad\u001b[0m\u001b[0;34m,\u001b[0m \u001b[0mx0\u001b[0m\u001b[0;34m,\u001b[0m \u001b[0mcallback\u001b[0m\u001b[0;34m=\u001b[0m\u001b[0;32mNone\u001b[0m\u001b[0;34m,\u001b[0m \u001b[0;34m*\u001b[0m\u001b[0margs\u001b[0m\u001b[0;34m,\u001b[0m \u001b[0;34m**\u001b[0m\u001b[0mkwargs\u001b[0m\u001b[0;34m)\u001b[0m\u001b[0;34m:\u001b[0m\u001b[0;34m\u001b[0m\u001b[0;34m\u001b[0m\u001b[0m\n\u001b[1;32m     22\u001b[0m         \u001b[0m_x0\u001b[0m\u001b[0;34m,\u001b[0m \u001b[0munflatten\u001b[0m \u001b[0;34m=\u001b[0m \u001b[0mflatten\u001b[0m\u001b[0;34m(\u001b[0m\u001b[0mx0\u001b[0m\u001b[0;34m)\u001b[0m\u001b[0;34m\u001b[0m\u001b[0;34m\u001b[0m\u001b[0m\n\u001b[0;32m---> 23\u001b[0;31m         \u001b[0m_grad\u001b[0m \u001b[0;34m=\u001b[0m \u001b[0;32mlambda\u001b[0m \u001b[0mx\u001b[0m\u001b[0;34m,\u001b[0m \u001b[0mi\u001b[0m\u001b[0;34m:\u001b[0m \u001b[0mflatten\u001b[0m\u001b[0;34m(\u001b[0m\u001b[0mgrad\u001b[0m\u001b[0;34m(\u001b[0m\u001b[0munflatten\u001b[0m\u001b[0;34m(\u001b[0m\u001b[0mx\u001b[0m\u001b[0;34m)\u001b[0m\u001b[0;34m,\u001b[0m \u001b[0mi\u001b[0m\u001b[0;34m)\u001b[0m\u001b[0;34m)\u001b[0m\u001b[0;34m[\u001b[0m\u001b[0;36m0\u001b[0m\u001b[0;34m]\u001b[0m\u001b[0;34m\u001b[0m\u001b[0;34m\u001b[0m\u001b[0m\n\u001b[0m\u001b[1;32m     24\u001b[0m         \u001b[0;32mif\u001b[0m \u001b[0mcallback\u001b[0m\u001b[0;34m:\u001b[0m\u001b[0;34m\u001b[0m\u001b[0;34m\u001b[0m\u001b[0m\n\u001b[1;32m     25\u001b[0m             \u001b[0m_callback\u001b[0m \u001b[0;34m=\u001b[0m \u001b[0;32mlambda\u001b[0m \u001b[0mx\u001b[0m\u001b[0;34m,\u001b[0m \u001b[0mi\u001b[0m\u001b[0;34m,\u001b[0m \u001b[0mg\u001b[0m\u001b[0;34m:\u001b[0m \u001b[0mcallback\u001b[0m\u001b[0;34m(\u001b[0m\u001b[0munflatten\u001b[0m\u001b[0;34m(\u001b[0m\u001b[0mx\u001b[0m\u001b[0;34m)\u001b[0m\u001b[0;34m,\u001b[0m \u001b[0mi\u001b[0m\u001b[0;34m,\u001b[0m \u001b[0munflatten\u001b[0m\u001b[0;34m(\u001b[0m\u001b[0mg\u001b[0m\u001b[0;34m)\u001b[0m\u001b[0;34m)\u001b[0m\u001b[0;34m\u001b[0m\u001b[0;34m\u001b[0m\u001b[0m\n",
            "\u001b[0;32m/usr/local/lib/python3.6/dist-packages/autograd/wrap_util.py\u001b[0m in \u001b[0;36mnary_f\u001b[0;34m(*args, **kwargs)\u001b[0m\n\u001b[1;32m     18\u001b[0m             \u001b[0;32melse\u001b[0m\u001b[0;34m:\u001b[0m\u001b[0;34m\u001b[0m\u001b[0;34m\u001b[0m\u001b[0m\n\u001b[1;32m     19\u001b[0m                 \u001b[0mx\u001b[0m \u001b[0;34m=\u001b[0m \u001b[0mtuple\u001b[0m\u001b[0;34m(\u001b[0m\u001b[0margs\u001b[0m\u001b[0;34m[\u001b[0m\u001b[0mi\u001b[0m\u001b[0;34m]\u001b[0m \u001b[0;32mfor\u001b[0m \u001b[0mi\u001b[0m \u001b[0;32min\u001b[0m \u001b[0margnum\u001b[0m\u001b[0;34m)\u001b[0m\u001b[0;34m\u001b[0m\u001b[0;34m\u001b[0m\u001b[0m\n\u001b[0;32m---> 20\u001b[0;31m             \u001b[0;32mreturn\u001b[0m \u001b[0munary_operator\u001b[0m\u001b[0;34m(\u001b[0m\u001b[0munary_f\u001b[0m\u001b[0;34m,\u001b[0m \u001b[0mx\u001b[0m\u001b[0;34m,\u001b[0m \u001b[0;34m*\u001b[0m\u001b[0mnary_op_args\u001b[0m\u001b[0;34m,\u001b[0m \u001b[0;34m**\u001b[0m\u001b[0mnary_op_kwargs\u001b[0m\u001b[0;34m)\u001b[0m\u001b[0;34m\u001b[0m\u001b[0;34m\u001b[0m\u001b[0m\n\u001b[0m\u001b[1;32m     21\u001b[0m         \u001b[0;32mreturn\u001b[0m \u001b[0mnary_f\u001b[0m\u001b[0;34m\u001b[0m\u001b[0;34m\u001b[0m\u001b[0m\n\u001b[1;32m     22\u001b[0m     \u001b[0;32mreturn\u001b[0m \u001b[0mnary_operator\u001b[0m\u001b[0;34m\u001b[0m\u001b[0;34m\u001b[0m\u001b[0m\n",
            "\u001b[0;32m/usr/local/lib/python3.6/dist-packages/autograd/differential_operators.py\u001b[0m in \u001b[0;36mgrad\u001b[0;34m(fun, x)\u001b[0m\n\u001b[1;32m     27\u001b[0m         raise TypeError(\"Grad only applies to real scalar-output functions. \"\n\u001b[1;32m     28\u001b[0m                         \"Try jacobian, elementwise_grad or holomorphic_grad.\")\n\u001b[0;32m---> 29\u001b[0;31m     \u001b[0;32mreturn\u001b[0m \u001b[0mvjp\u001b[0m\u001b[0;34m(\u001b[0m\u001b[0mvspace\u001b[0m\u001b[0;34m(\u001b[0m\u001b[0mans\u001b[0m\u001b[0;34m)\u001b[0m\u001b[0;34m.\u001b[0m\u001b[0mones\u001b[0m\u001b[0;34m(\u001b[0m\u001b[0;34m)\u001b[0m\u001b[0;34m)\u001b[0m\u001b[0;34m\u001b[0m\u001b[0;34m\u001b[0m\u001b[0m\n\u001b[0m\u001b[1;32m     30\u001b[0m \u001b[0;34m\u001b[0m\u001b[0m\n\u001b[1;32m     31\u001b[0m \u001b[0;34m@\u001b[0m\u001b[0munary_to_nary\u001b[0m\u001b[0;34m\u001b[0m\u001b[0;34m\u001b[0m\u001b[0m\n",
            "\u001b[0;32m/usr/local/lib/python3.6/dist-packages/autograd/core.py\u001b[0m in \u001b[0;36mvjp\u001b[0;34m(g)\u001b[0m\n\u001b[1;32m     12\u001b[0m         \u001b[0;32mdef\u001b[0m \u001b[0mvjp\u001b[0m\u001b[0;34m(\u001b[0m\u001b[0mg\u001b[0m\u001b[0;34m)\u001b[0m\u001b[0;34m:\u001b[0m \u001b[0;32mreturn\u001b[0m \u001b[0mvspace\u001b[0m\u001b[0;34m(\u001b[0m\u001b[0mx\u001b[0m\u001b[0;34m)\u001b[0m\u001b[0;34m.\u001b[0m\u001b[0mzeros\u001b[0m\u001b[0;34m(\u001b[0m\u001b[0;34m)\u001b[0m\u001b[0;34m\u001b[0m\u001b[0;34m\u001b[0m\u001b[0m\n\u001b[1;32m     13\u001b[0m     \u001b[0;32melse\u001b[0m\u001b[0;34m:\u001b[0m\u001b[0;34m\u001b[0m\u001b[0;34m\u001b[0m\u001b[0m\n\u001b[0;32m---> 14\u001b[0;31m         \u001b[0;32mdef\u001b[0m \u001b[0mvjp\u001b[0m\u001b[0;34m(\u001b[0m\u001b[0mg\u001b[0m\u001b[0;34m)\u001b[0m\u001b[0;34m:\u001b[0m \u001b[0;32mreturn\u001b[0m \u001b[0mbackward_pass\u001b[0m\u001b[0;34m(\u001b[0m\u001b[0mg\u001b[0m\u001b[0;34m,\u001b[0m \u001b[0mend_node\u001b[0m\u001b[0;34m)\u001b[0m\u001b[0;34m\u001b[0m\u001b[0;34m\u001b[0m\u001b[0m\n\u001b[0m\u001b[1;32m     15\u001b[0m     \u001b[0;32mreturn\u001b[0m \u001b[0mvjp\u001b[0m\u001b[0;34m,\u001b[0m \u001b[0mend_value\u001b[0m\u001b[0;34m\u001b[0m\u001b[0;34m\u001b[0m\u001b[0m\n\u001b[1;32m     16\u001b[0m \u001b[0;34m\u001b[0m\u001b[0m\n",
            "\u001b[0;32m/usr/local/lib/python3.6/dist-packages/autograd/core.py\u001b[0m in \u001b[0;36mbackward_pass\u001b[0;34m(g, end_node)\u001b[0m\n\u001b[1;32m     21\u001b[0m         \u001b[0mingrads\u001b[0m \u001b[0;34m=\u001b[0m \u001b[0mnode\u001b[0m\u001b[0;34m.\u001b[0m\u001b[0mvjp\u001b[0m\u001b[0;34m(\u001b[0m\u001b[0moutgrad\u001b[0m\u001b[0;34m[\u001b[0m\u001b[0;36m0\u001b[0m\u001b[0;34m]\u001b[0m\u001b[0;34m)\u001b[0m\u001b[0;34m\u001b[0m\u001b[0;34m\u001b[0m\u001b[0m\n\u001b[1;32m     22\u001b[0m         \u001b[0;32mfor\u001b[0m \u001b[0mparent\u001b[0m\u001b[0;34m,\u001b[0m \u001b[0mingrad\u001b[0m \u001b[0;32min\u001b[0m \u001b[0mzip\u001b[0m\u001b[0;34m(\u001b[0m\u001b[0mnode\u001b[0m\u001b[0;34m.\u001b[0m\u001b[0mparents\u001b[0m\u001b[0;34m,\u001b[0m \u001b[0mingrads\u001b[0m\u001b[0;34m)\u001b[0m\u001b[0;34m:\u001b[0m\u001b[0;34m\u001b[0m\u001b[0;34m\u001b[0m\u001b[0m\n\u001b[0;32m---> 23\u001b[0;31m             \u001b[0moutgrads\u001b[0m\u001b[0;34m[\u001b[0m\u001b[0mparent\u001b[0m\u001b[0;34m]\u001b[0m \u001b[0;34m=\u001b[0m \u001b[0madd_outgrads\u001b[0m\u001b[0;34m(\u001b[0m\u001b[0moutgrads\u001b[0m\u001b[0;34m.\u001b[0m\u001b[0mget\u001b[0m\u001b[0;34m(\u001b[0m\u001b[0mparent\u001b[0m\u001b[0;34m)\u001b[0m\u001b[0;34m,\u001b[0m \u001b[0mingrad\u001b[0m\u001b[0;34m)\u001b[0m\u001b[0;34m\u001b[0m\u001b[0;34m\u001b[0m\u001b[0m\n\u001b[0m\u001b[1;32m     24\u001b[0m     \u001b[0;32mreturn\u001b[0m \u001b[0moutgrad\u001b[0m\u001b[0;34m[\u001b[0m\u001b[0;36m0\u001b[0m\u001b[0;34m]\u001b[0m\u001b[0;34m\u001b[0m\u001b[0;34m\u001b[0m\u001b[0m\n\u001b[1;32m     25\u001b[0m \u001b[0;34m\u001b[0m\u001b[0m\n",
            "\u001b[0;32m/usr/local/lib/python3.6/dist-packages/autograd/core.py\u001b[0m in \u001b[0;36madd_outgrads\u001b[0;34m(prev_g_flagged, g)\u001b[0m\n\u001b[1;32m    174\u001b[0m     \u001b[0;32melse\u001b[0m\u001b[0;34m:\u001b[0m\u001b[0;34m\u001b[0m\u001b[0;34m\u001b[0m\u001b[0m\n\u001b[1;32m    175\u001b[0m         \u001b[0;32mif\u001b[0m \u001b[0msparse\u001b[0m\u001b[0;34m:\u001b[0m\u001b[0;34m\u001b[0m\u001b[0;34m\u001b[0m\u001b[0m\n\u001b[0;32m--> 176\u001b[0;31m             \u001b[0;32mreturn\u001b[0m \u001b[0msparse_add\u001b[0m\u001b[0;34m(\u001b[0m\u001b[0mvspace\u001b[0m\u001b[0;34m(\u001b[0m\u001b[0mg\u001b[0m\u001b[0;34m)\u001b[0m\u001b[0;34m,\u001b[0m \u001b[0;32mNone\u001b[0m\u001b[0;34m,\u001b[0m \u001b[0mg\u001b[0m\u001b[0;34m)\u001b[0m\u001b[0;34m,\u001b[0m \u001b[0;32mTrue\u001b[0m\u001b[0;34m\u001b[0m\u001b[0;34m\u001b[0m\u001b[0m\n\u001b[0m\u001b[1;32m    177\u001b[0m         \u001b[0;32melse\u001b[0m\u001b[0;34m:\u001b[0m\u001b[0;34m\u001b[0m\u001b[0;34m\u001b[0m\u001b[0m\n\u001b[1;32m    178\u001b[0m             \u001b[0;32mreturn\u001b[0m \u001b[0mg\u001b[0m\u001b[0;34m,\u001b[0m \u001b[0;32mFalse\u001b[0m\u001b[0;34m\u001b[0m\u001b[0;34m\u001b[0m\u001b[0m\n",
            "\u001b[0;32m/usr/local/lib/python3.6/dist-packages/autograd/tracer.py\u001b[0m in \u001b[0;36mf_wrapped\u001b[0;34m(*args, **kwargs)\u001b[0m\n\u001b[1;32m     46\u001b[0m             \u001b[0;32mreturn\u001b[0m \u001b[0mnew_box\u001b[0m\u001b[0;34m(\u001b[0m\u001b[0mans\u001b[0m\u001b[0;34m,\u001b[0m \u001b[0mtrace\u001b[0m\u001b[0;34m,\u001b[0m \u001b[0mnode\u001b[0m\u001b[0;34m)\u001b[0m\u001b[0;34m\u001b[0m\u001b[0;34m\u001b[0m\u001b[0m\n\u001b[1;32m     47\u001b[0m         \u001b[0;32melse\u001b[0m\u001b[0;34m:\u001b[0m\u001b[0;34m\u001b[0m\u001b[0;34m\u001b[0m\u001b[0m\n\u001b[0;32m---> 48\u001b[0;31m             \u001b[0;32mreturn\u001b[0m \u001b[0mf_raw\u001b[0m\u001b[0;34m(\u001b[0m\u001b[0;34m*\u001b[0m\u001b[0margs\u001b[0m\u001b[0;34m,\u001b[0m \u001b[0;34m**\u001b[0m\u001b[0mkwargs\u001b[0m\u001b[0;34m)\u001b[0m\u001b[0;34m\u001b[0m\u001b[0;34m\u001b[0m\u001b[0m\n\u001b[0m\u001b[1;32m     49\u001b[0m     \u001b[0mf_wrapped\u001b[0m\u001b[0;34m.\u001b[0m\u001b[0mfun\u001b[0m \u001b[0;34m=\u001b[0m \u001b[0mf_raw\u001b[0m\u001b[0;34m\u001b[0m\u001b[0;34m\u001b[0m\u001b[0m\n\u001b[1;32m     50\u001b[0m     \u001b[0mf_wrapped\u001b[0m\u001b[0;34m.\u001b[0m\u001b[0m_is_autograd_primitive\u001b[0m \u001b[0;34m=\u001b[0m \u001b[0;32mTrue\u001b[0m\u001b[0;34m\u001b[0m\u001b[0;34m\u001b[0m\u001b[0m\n",
            "\u001b[0;32m/usr/local/lib/python3.6/dist-packages/autograd/core.py\u001b[0m in \u001b[0;36msparse_add\u001b[0;34m(vs, x_prev, x_new)\u001b[0m\n\u001b[1;32m    184\u001b[0m \u001b[0;32mdef\u001b[0m \u001b[0msparse_add\u001b[0m\u001b[0;34m(\u001b[0m\u001b[0mvs\u001b[0m\u001b[0;34m,\u001b[0m \u001b[0mx_prev\u001b[0m\u001b[0;34m,\u001b[0m \u001b[0mx_new\u001b[0m\u001b[0;34m)\u001b[0m\u001b[0;34m:\u001b[0m\u001b[0;34m\u001b[0m\u001b[0;34m\u001b[0m\u001b[0m\n\u001b[1;32m    185\u001b[0m     \u001b[0mx_prev\u001b[0m \u001b[0;34m=\u001b[0m \u001b[0mx_prev\u001b[0m \u001b[0;32mif\u001b[0m \u001b[0mx_prev\u001b[0m \u001b[0;32mis\u001b[0m \u001b[0;32mnot\u001b[0m \u001b[0;32mNone\u001b[0m \u001b[0;32melse\u001b[0m \u001b[0mvs\u001b[0m\u001b[0;34m.\u001b[0m\u001b[0mzeros\u001b[0m\u001b[0;34m(\u001b[0m\u001b[0;34m)\u001b[0m\u001b[0;34m\u001b[0m\u001b[0;34m\u001b[0m\u001b[0m\n\u001b[0;32m--> 186\u001b[0;31m     \u001b[0;32mreturn\u001b[0m \u001b[0mx_new\u001b[0m\u001b[0;34m.\u001b[0m\u001b[0mmut_add\u001b[0m\u001b[0;34m(\u001b[0m\u001b[0mx_prev\u001b[0m\u001b[0;34m)\u001b[0m\u001b[0;34m\u001b[0m\u001b[0;34m\u001b[0m\u001b[0m\n\u001b[0m\u001b[1;32m    187\u001b[0m \u001b[0;34m\u001b[0m\u001b[0m\n\u001b[1;32m    188\u001b[0m \u001b[0;32mclass\u001b[0m \u001b[0mVSpace\u001b[0m\u001b[0;34m(\u001b[0m\u001b[0mobject\u001b[0m\u001b[0;34m)\u001b[0m\u001b[0;34m:\u001b[0m\u001b[0;34m\u001b[0m\u001b[0;34m\u001b[0m\u001b[0m\n",
            "\u001b[0;32m/usr/local/lib/python3.6/dist-packages/autograd/numpy/numpy_vjps.py\u001b[0m in \u001b[0;36mmut_add\u001b[0;34m(A)\u001b[0m\n\u001b[1;32m    696\u001b[0m         \u001b[0midx\u001b[0m \u001b[0;34m=\u001b[0m \u001b[0monp\u001b[0m\u001b[0;34m.\u001b[0m\u001b[0marray\u001b[0m\u001b[0;34m(\u001b[0m\u001b[0midx\u001b[0m\u001b[0;34m,\u001b[0m \u001b[0mdtype\u001b[0m\u001b[0;34m=\u001b[0m\u001b[0;34m'int64'\u001b[0m\u001b[0;34m)\u001b[0m\u001b[0;34m\u001b[0m\u001b[0;34m\u001b[0m\u001b[0m\n\u001b[1;32m    697\u001b[0m     \u001b[0;32mdef\u001b[0m \u001b[0mmut_add\u001b[0m\u001b[0;34m(\u001b[0m\u001b[0mA\u001b[0m\u001b[0;34m)\u001b[0m\u001b[0;34m:\u001b[0m\u001b[0;34m\u001b[0m\u001b[0;34m\u001b[0m\u001b[0m\n\u001b[0;32m--> 698\u001b[0;31m         \u001b[0monp\u001b[0m\u001b[0;34m.\u001b[0m\u001b[0madd\u001b[0m\u001b[0;34m.\u001b[0m\u001b[0mat\u001b[0m\u001b[0;34m(\u001b[0m\u001b[0mA\u001b[0m\u001b[0;34m,\u001b[0m \u001b[0midx\u001b[0m\u001b[0;34m,\u001b[0m \u001b[0mx\u001b[0m\u001b[0;34m)\u001b[0m\u001b[0;34m\u001b[0m\u001b[0;34m\u001b[0m\u001b[0m\n\u001b[0m\u001b[1;32m    699\u001b[0m         \u001b[0;32mreturn\u001b[0m \u001b[0mA\u001b[0m\u001b[0;34m\u001b[0m\u001b[0;34m\u001b[0m\u001b[0m\n\u001b[1;32m    700\u001b[0m     \u001b[0;32mreturn\u001b[0m \u001b[0mSparseObject\u001b[0m\u001b[0;34m(\u001b[0m\u001b[0mvs\u001b[0m\u001b[0;34m,\u001b[0m \u001b[0mmut_add\u001b[0m\u001b[0;34m)\u001b[0m\u001b[0;34m\u001b[0m\u001b[0;34m\u001b[0m\u001b[0m\n",
            "\u001b[0;31mKeyboardInterrupt\u001b[0m: "
          ]
        }
      ]
    },
    {
      "cell_type": "code",
      "metadata": {
        "id": "rI9VSKTyXWT2",
        "colab_type": "code",
        "colab": {
          "base_uri": "https://localhost:8080/",
          "height": 265
        },
        "outputId": "4eb0949f-5021-41bb-f094-5e6fd7b8b5be"
      },
      "source": [
        "# Initial random image from G\n",
        "z = npr.rand(1, noise_dim)\n",
        "fake_image = generator(params_gen, z)\n",
        "show_image(fake_image.reshape(28, 28))"
      ],
      "execution_count": 43,
      "outputs": [
        {
          "output_type": "display_data",
          "data": {
            "image/png": "[encoded data removed]",
            "text/plain": [
              "<Figure size 432x288 with 1 Axes>"
            ]
          },
          "metadata": {
            "tags": []
          }
        }
      ]
    },
    {
      "cell_type": "code",
      "metadata": {
        "id": "imtDE3u0jleu",
        "colab_type": "code",
        "colab": {}
      },
      "source": [
        ""
      ],
      "execution_count": 0,
      "outputs": []
    }
  ]
}
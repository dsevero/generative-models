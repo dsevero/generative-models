{
  "nbformat": 4,
  "nbformat_minor": 0,
  "metadata": {
    "colab": {
      "name": "Untitled2.ipynb",
      "version": "0.3.2",
      "provenance": [],
      "toc_visible": true,
      "include_colab_link": true
    },
    "kernelspec": {
      "name": "python3",
      "display_name": "Python 3"
    }
  },
  "cells": [
    {
      "cell_type": "markdown",
      "metadata": {
        "id": "view-in-github",
        "colab_type": "text"
      },
      "source": [
        "<a href=\"https://colab.research.google.com/github/dsevero/generative-models/blob/master/experiments/GAN/notebooks/goodfellow_2014.ipynb\" target=\"_parent\"><img src=\"https://colab.research.google.com/assets/colab-badge.svg\" alt=\"Open In Colab\"/></a>"
      ]
    },
    {
      "cell_type": "markdown",
      "metadata": {
        "id": "GVCHBrRRuUUY",
        "colab_type": "text"
      },
      "source": [
        "# Generative Adversarial Nets (Goodfellow 2014)\n",
        "https://arxiv.org/pdf/1406.2661.pdf"
      ]
    },
    {
      "cell_type": "code",
      "metadata": {
        "id": "I1pQTYwsDlAQ",
        "colab_type": "code",
        "colab": {}
      },
      "source": [
        "%matplotlib inline"
      ],
      "execution_count": 0,
      "outputs": []
    },
    {
      "cell_type": "code",
      "metadata": {
        "id": "vPDM2dRnt5gH",
        "colab_type": "code",
        "colab": {}
      },
      "source": [
        "# necessary for autograd compatibility\n",
        "!pip install scipy==1.1.0 -q\n",
        "\n",
        "# update tensorflow\n",
        "!pip install tensorflow==2.0.0b1 -q"
      ],
      "execution_count": 0,
      "outputs": []
    },
    {
      "cell_type": "code",
      "metadata": {
        "id": "5INWa4setf75",
        "colab_type": "code",
        "colab": {}
      },
      "source": [
        "import autograd.numpy as np\n",
        "import autograd.numpy.random as npr\n",
        "import warnings\n",
        "import tensorflow as tf\n",
        "import matplotlib.pyplot as plt\n",
        "from autograd import grad\n",
        "from autograd.misc import flatten\n",
        "from autograd.misc.optimizers import adam\n",
        "from scipy.stats import norm\n",
        "\n",
        "\n",
        "warnings.simplefilter(action='ignore', category=FutureWarning)"
      ],
      "execution_count": 0,
      "outputs": []
    },
    {
      "cell_type": "code",
      "metadata": {
        "id": "oSdGVpxdD-Aw",
        "colab_type": "code",
        "colab": {}
      },
      "source": [
        "def show_image(image):\n",
        "    plt.imshow(image, cmap='gray')\n",
        "    plt.axis('off')"
      ],
      "execution_count": 0,
      "outputs": []
    },
    {
      "cell_type": "markdown",
      "metadata": {
        "id": "p756YZQnvFZp",
        "colab_type": "text"
      },
      "source": [
        "## Definitions and Tests"
      ]
    },
    {
      "cell_type": "code",
      "metadata": {
        "id": "YIimoT6YsJER",
        "colab_type": "code",
        "colab": {}
      },
      "source": [
        "# reference: \n",
        "# https://github.com/HIPS/autograd/blob/master/examples/generative_adversarial_net.py\n",
        "\n",
        "def relu(x):       \n",
        "    return np.maximum(0, x)\n",
        "\n",
        "def sigmoid(x):    \n",
        "    return 0.5 * (np.tanh(x) + 1.0)\n",
        "\n",
        "def logsigmoid(x): \n",
        "    return x - np.logaddexp(0, x)\n",
        "\n",
        "def init_random_params(scale, layer_sizes, rs=npr.RandomState(0)):\n",
        "    \"\"\"Build a list of (weights, biases) tuples,\n",
        "       one for each layer in the net.\"\"\"\n",
        "    return [(scale * rs.randn(m, n),   # weight matrix\n",
        "             scale * rs.randn(n))      # bias vector\n",
        "            for m, n in zip(layer_sizes[:-1], layer_sizes[1:])]\n",
        "\n",
        "def batch_normalize(activations):\n",
        "    mbmean = np.mean(activations, axis=0, keepdims=True)\n",
        "    return (activations - mbmean) / (np.std(activations, axis=0, keepdims=True) + 1)\n",
        "\n",
        "def neural_net_predict(params, inputs, use_batch_norm=True):\n",
        "    \"\"\"Params is a list of (weights, bias) tuples.\n",
        "       inputs is an (N x D) matrix.\"\"\"\n",
        "    inpW, inpb = params[0]\n",
        "    inputs = relu(np.dot(inputs, inpW) + inpb)\n",
        "    for W, b in params[1:-1]:\n",
        "        outputs = np.dot(inputs, W) + b\n",
        "        if use_batch_norm:\n",
        "            outputs = batch_normalize(outputs)\n",
        "        inputs = relu(outputs)\n",
        "    outW, outb = params[-1]\n",
        "    outputs = np.dot(inputs, outW) + outb\n",
        "    return outputs\n",
        "\n",
        "def generator(params, noise):\n",
        "    samples = neural_net_predict(params, noise)\n",
        "    return sigmoid(samples).reshape(28, 28)\n",
        "\n",
        "def discriminator(params, inputs):\n",
        "    samples = neural_net_predict(params, inputs.flatten())\n",
        "    return sigmoid(samples)"
      ],
      "execution_count": 0,
      "outputs": []
    },
    {
      "cell_type": "code",
      "metadata": {
        "id": "4DA1eNmWvM4g",
        "colab_type": "code",
        "colab": {}
      },
      "source": [
        "params = 5*((np.eye(3), np.zeros(3)),)\n",
        "x = npr.randn(9).reshape((3,3))\n",
        "\n",
        "\n",
        "assert (batch_normalize([0, 0, 0]) == [0, 0, 0]).all()\n",
        "assert (batch_normalize([-1, 1]) == [-0.5, 0.5]).all()\n",
        "assert (batch_normalize([[-1, 1], [-2, 2]]) == [[1/3, -1/3], [-1/3, 1/3]]).all()\n",
        "\n",
        "assert (neural_net_predict(params, x, False) == relu(x)).all()"
      ],
      "execution_count": 0,
      "outputs": []
    },
    {
      "cell_type": "markdown",
      "metadata": {
        "id": "7buAOgGK6FuJ",
        "colab_type": "text"
      },
      "source": [
        "## 5 Experiments (MNIST)"
      ]
    },
    {
      "cell_type": "code",
      "metadata": {
        "id": "kLYwGW7U6YqN",
        "colab_type": "code",
        "colab": {
          "base_uri": "https://localhost:8080/",
          "height": 35
        },
        "outputId": "e66ed4d5-6b3c-4d10-bf8b-d63cd148c2d4"
      },
      "source": [
        "# Training parameters\n",
        "param_scale = 0.001\n",
        "batch_size = 100 # must divide 70_000.\n",
        "num_epochs = 50\n",
        "num_batches = int(70_000/batch_size)\n",
        "\n",
        "\n",
        "# Load, concatenate and reshape the data.\n",
        "# Here we don't distinguish between train and test.\n",
        "# Final dimensions are (batch, image_example, image_row, image_column)\n",
        "(train_images, _), (test_images, _) = tf.keras.datasets.mnist.load_data()\n",
        "images = (np.concatenate((train_images, test_images))\n",
        "            .reshape((num_batches, batch_size, 28, 28))) / 255\n",
        "\n",
        "# Model hyper-parameters\n",
        "noise_dim = 10\n",
        "gen_layer_sizes = [noise_dim, 200, 784]\n",
        "dsc_layer_sizes = [gen_layer_sizes[-1], 200, 1]\n",
        "\n",
        "# Initialize NN params. for G and D\n",
        "init_gen_params = init_random_params(param_scale, gen_layer_sizes)\n",
        "init_dsc_params = init_random_params(param_scale, dsc_layer_sizes)\n",
        "\n",
        "print('images.shape:', images.shape)"
      ],
      "execution_count": 7,
      "outputs": [
        {
          "output_type": "stream",
          "text": [
            "images.shape: (700, 100, 28, 28)\n"
          ],
          "name": "stdout"
        }
      ]
    },
    {
      "cell_type": "code",
      "metadata": {
        "id": "h15wslYoDSjg",
        "colab_type": "code",
        "colab": {
          "base_uri": "https://localhost:8080/",
          "height": 265
        },
        "outputId": "97ecebf5-1eac-41e9-c601-88d0dcb76399"
      },
      "source": [
        "# Real image\n",
        "show_image(images[0, 0])"
      ],
      "execution_count": 8,
      "outputs": [
        {
          "output_type": "display_data",
          "data": {
            "image/png": "[encoded data removed]",
            "text/plain": [
              "<Figure size 432x288 with 1 Axes>"
            ]
          },
          "metadata": {
            "tags": []
          }
        }
      ]
    },
    {
      "cell_type": "code",
      "metadata": {
        "id": "KTx70Qo9Gwil",
        "colab_type": "code",
        "colab": {
          "base_uri": "https://localhost:8080/",
          "height": 283
        },
        "outputId": "507f7693-899f-487c-8560-6f3934d8c107"
      },
      "source": [
        "# Initial random image from G\n",
        "z = npr.rand(1, noise_dim)\n",
        "fake_image = generator(init_gen_params, z)\n",
        "show_image(fake_image)\n",
        "\n",
        "# What D knows about the random image (i.e. nothing!)\n",
        "discriminator(init_dsc_params, fake_image)"
      ],
      "execution_count": 9,
      "outputs": [
        {
          "output_type": "execute_result",
          "data": {
            "text/plain": [
              "array([0.50065436])"
            ]
          },
          "metadata": {
            "tags": []
          },
          "execution_count": 9
        },
        {
          "output_type": "display_data",
          "data": {
            "image/png": "[encoded data removed]",
            "text/plain": [
              "<Figure size 432x288 with 1 Axes>"
            ]
          },
          "metadata": {
            "tags": []
          }
        }
      ]
    }
  ]
}
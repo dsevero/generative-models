{
  "nbformat": 4,
  "nbformat_minor": 0,
  "metadata": {
    "colab": {
      "name": "Gaussian variational posterior.ipynb",
      "version": "0.3.2",
      "provenance": [],
      "include_colab_link": true
    },
    "kernelspec": {
      "name": "python3",
      "display_name": "Python 3"
    }
  },
  "cells": [
    {
      "cell_type": "markdown",
      "metadata": {
        "id": "view-in-github",
        "colab_type": "text"
      },
      "source": [
        "<a href=\"https://colab.research.google.com/github/dsevero/generative-models/blob/master/experiments/Bayes-by-Backprop/notebooks/Gaussian_variational_posterior.ipynb\" target=\"_parent\"><img src=\"https://colab.research.google.com/assets/colab-badge.svg\" alt=\"Open In Colab\"/></a>"
      ]
    },
    {
      "cell_type": "code",
      "metadata": {
        "id": "sZ-YtvloNGfC",
        "colab_type": "code",
        "colab": {
          "base_uri": "https://localhost:8080/",
          "height": 314
        },
        "outputId": "7d0d4bf8-a345-4e55-bf9c-bb35f1a42416"
      },
      "source": [
        "!pip install scipy==1.1.0"
      ],
      "execution_count": 2,
      "outputs": [
        {
          "output_type": "stream",
          "text": [
            "Collecting scipy==1.1.0\n",
            "\u001b[?25l  Downloading https://files.pythonhosted.org/packages/a8/0b/f163da98d3a01b3e0ef1cab8dd2123c34aee2bafbb1c5bffa354cc8a1730/scipy-1.1.0-cp36-cp36m-manylinux1_x86_64.whl (31.2MB)\n",
            "\u001b[K     |████████████████████████████████| 31.2MB 1.3MB/s \n",
            "\u001b[?25hRequirement already satisfied: numpy>=1.8.2 in /usr/local/lib/python3.6/dist-packages (from scipy==1.1.0) (1.16.4)\n",
            "\u001b[31mERROR: albumentations 0.1.12 has requirement imgaug<0.2.7,>=0.2.5, but you'll have imgaug 0.2.9 which is incompatible.\u001b[0m\n",
            "Installing collected packages: scipy\n",
            "  Found existing installation: scipy 1.3.0\n",
            "    Uninstalling scipy-1.3.0:\n",
            "      Successfully uninstalled scipy-1.3.0\n",
            "Successfully installed scipy-1.1.0\n"
          ],
          "name": "stdout"
        },
        {
          "output_type": "display_data",
          "data": {
            "application/vnd.colab-display-data+json": {
              "pip_warning": {
                "packages": [
                  "scipy"
                ]
              }
            }
          },
          "metadata": {
            "tags": []
          }
        }
      ]
    },
    {
      "cell_type": "code",
      "metadata": {
        "id": "T4x5T35eoXzh",
        "colab_type": "code",
        "colab": {}
      },
      "source": [
        "from autograd import grad\n",
        "import autograd.numpy as np\n",
        "import matplotlib.pyplot as plt\n",
        "import seaborn as sns\n",
        "import autograd.scipy.stats.norm as norm\n",
        "\n",
        "\n",
        "sns.set_style('white')\n",
        "π = np.pi"
      ],
      "execution_count": 0,
      "outputs": []
    },
    {
      "cell_type": "markdown",
      "metadata": {
        "id": "f9z50wgexqvJ",
        "colab_type": "text"
      },
      "source": [
        "$$ \\mathcal{D}=\\left\\{x,y\\right\\}=\\left\\{\\left(x^{(i)}, y^{(i)}\\right)\\right\\}_{i=1}^N$$\n",
        "$$ x,y \\in \\mathbb{R}^N $$"
      ]
    },
    {
      "cell_type": "markdown",
      "metadata": {
        "id": "IyEeiOppplVq",
        "colab_type": "text"
      },
      "source": [
        "$$y = x + 0.3 \\sin(2\\pi(x + \\epsilon)) + 0.3 sin(4\\pi(x + \\epsilon)) + \\epsilon$$"
      ]
    },
    {
      "cell_type": "code",
      "metadata": {
        "id": "ZDeiu2uIpw9_",
        "colab_type": "code",
        "colab": {
          "base_uri": "https://localhost:8080/",
          "height": 269
        },
        "outputId": "f9263702-b9e0-4d2e-c364-5495da529613"
      },
      "source": [
        "x = np.linspace(0, 0.5, 100)\n",
        "ϵ = 0.02*np.random.randn(x.shape[0])\n",
        "y = x + 0.3*np.sin(2*π*(x + ϵ)) + 0.3*np.sin(4*π*(x + ϵ)) + ϵ\n",
        "\n",
        "plt.plot(x,y);"
      ],
      "execution_count": 11,
      "outputs": [
        {
          "output_type": "display_data",
          "data": {
            "image/png": "[encoded data removed]",
            "text/plain": [
              "<Figure size 432x288 with 1 Axes>"
            ]
          },
          "metadata": {
            "tags": []
          }
        }
      ]
    },
    {
      "cell_type": "markdown",
      "metadata": {
        "id": "YXeVgxBBy7XC",
        "colab_type": "text"
      },
      "source": [
        "$$h = \\sigma(W_1x + b_1)$$\n",
        "$$\\hat{y} = W_2h + b_2 $$"
      ]
    },
    {
      "cell_type": "code",
      "metadata": {
        "id": "jJCam5QLvig2",
        "colab_type": "code",
        "colab": {}
      },
      "source": [
        "def relu(z):\n",
        "    return z*(z > 0)\n",
        "\n",
        "def init_params(input_size, \n",
        "                hidden_layer_size,\n",
        "                output_size,\n",
        "                seed=None):\n",
        "    rs = np.random.RandomState(seed)\n",
        "    \n",
        "    W1 = rs.randn(hidden_layer_size, input_size)\n",
        "    b1 = rs.randn(hidden_layer_size)\n",
        "    \n",
        "    W2 = rs.randn(output_size, hidden_layer_size)\n",
        "    b2 = rs.randn(output_size)\n",
        "    return W1, b1, W2, b2\n",
        "    \n",
        "\n",
        "def neural_net_predict(params, x):\n",
        "    \"\"\"Implements a shallow neural network for regression.\n",
        "       params is a list of (weights, bias) tuples.\n",
        "       inputs is an (N x D) matrix.\n",
        "       returns regression results.\"\"\"\n",
        "    W1, b1, W2, b2 = params\n",
        "    h = relu(np.dot(W1, x) + b1)\n",
        "    y_pred = relu(np.dot(W2, h) + b2)\n",
        "    return y_pred\n",
        "\n",
        "\n",
        "def log_likelihood(params, x: float, y: float):\n",
        "    μ = neural_net_predict(params, x)\n",
        "    σ = 1\n",
        "    \n",
        "    # gaussian model\n",
        "    return -np.log(np.sqrt(2*π*σ**2)) + np.power(y - μ, 2)/(2*σ)\n",
        "\n",
        "def loss(params, x: np.array, y: np.array):\n",
        "    return -log_likelihood(params, x, y).sum()"
      ],
      "execution_count": 0,
      "outputs": []
    },
    {
      "cell_type": "markdown",
      "metadata": {
        "id": "RtzXSxxwEX6-",
        "colab_type": "text"
      },
      "source": [
        "# Learning"
      ]
    },
    {
      "cell_type": "code",
      "metadata": {
        "id": "EOthhvJJ9Bil",
        "colab_type": "code",
        "colab": {
          "base_uri": "https://localhost:8080/",
          "height": 313
        },
        "outputId": "0279d689-bc1d-4ac0-c60c-ebf91e4d7eaa"
      },
      "source": [
        "input_size = x.shape[0]\n",
        "hidden_layer_size = 2\n",
        "output_size = y.shape[0]\n",
        "lr = 0.01\n",
        "\n",
        "# compute gradient\n",
        "loss_grad = grad(loss)\n",
        "\n",
        "# init params\n",
        "params = init_params(input_size, hidden_layer_size, output_size, seed=0)\n",
        "\n",
        "# Gradient Descent\n",
        "i = 0\n",
        "l = 0 \n",
        "while (i < 10_000) and (l > -1e20):\n",
        "    Δparams  = loss_grad(params, x, y)   \n",
        "    params = [p - Δp*lr for p, Δp in zip(params, Δparams)]\n",
        "    \n",
        "    l = loss(params, x, y)\n",
        "    i += 1\n",
        "print(i, l)\n",
        "\n",
        "y_pred = neural_net_predict(params, x)\n",
        "plt.plot(x,y)\n",
        "plt.plot(x,y_pred)"
      ],
      "execution_count": 145,
      "outputs": [
        {
          "output_type": "stream",
          "text": [
            "2184 -1.0009983664648276e+20\n"
          ],
          "name": "stdout"
        },
        {
          "output_type": "execute_result",
          "data": {
            "text/plain": [
              "[<matplotlib.lines.Line2D at 0x7facd0a81278>]"
            ]
          },
          "metadata": {
            "tags": []
          },
          "execution_count": 145
        },
        {
          "output_type": "display_data",
          "data": {
            "image/png": "[encoded data removed]",
            "text/plain": [
              "<Figure size 432x288 with 1 Axes>"
            ]
          },
          "metadata": {
            "tags": []
          }
        }
      ]
    }
  ]
}
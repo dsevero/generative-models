{
  "nbformat": 4,
  "nbformat_minor": 0,
  "metadata": {
    "colab": {
      "name": "Gaussian variational posterior.ipynb",
      "version": "0.3.2",
      "provenance": [],
      "include_colab_link": true
    },
    "kernelspec": {
      "name": "python3",
      "display_name": "Python 3"
    }
  },
  "cells": [
    {
      "cell_type": "markdown",
      "metadata": {
        "id": "view-in-github",
        "colab_type": "text"
      },
      "source": [
        "<a href=\"https://colab.research.google.com/github/dsevero/generative-models/blob/master/experiments/Bayes-by-Backprop/notebooks/Gaussian_variational_posterior.ipynb\" target=\"_parent\"><img src=\"https://colab.research.google.com/assets/colab-badge.svg\" alt=\"Open In Colab\"/></a>"
      ]
    },
    {
      "cell_type": "code",
      "metadata": {
        "id": "wxwZk50p393p",
        "colab_type": "code",
        "colab": {}
      },
      "source": [
        "from scipy.stats import multivariate_normal\n",
        "import numpy as np"
      ],
      "execution_count": 0,
      "outputs": []
    },
    {
      "cell_type": "code",
      "metadata": {
        "id": "bg_YwDorCOn5",
        "colab_type": "code",
        "colab": {}
      },
      "source": [
        "# parameters\n",
        "θ = np.zeros(2)\n",
        "μ = θ[0]\n",
        "ρ = θ[1]"
      ],
      "execution_count": 0,
      "outputs": []
    },
    {
      "cell_type": "code",
      "metadata": {
        "id": "eQyJ-jc4EpWj",
        "colab_type": "code",
        "colab": {}
      },
      "source": [
        "def t(θ, ϵ):\n",
        "    μ = θ[0]\n",
        "    ρ = θ[1]\n",
        "    return μ + np.log(1 + np.exp(ρ))*ϵ\n",
        "\n",
        "ϵ = multivariate_normal(cov=np.eye(1)).rvs()\n",
        "w = t(θ, ϵ)"
      ],
      "execution_count": 0,
      "outputs": []
    }
  ]
}
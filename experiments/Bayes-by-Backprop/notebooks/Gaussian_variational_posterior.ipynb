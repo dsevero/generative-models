{
  "nbformat": 4,
  "nbformat_minor": 0,
  "metadata": {
    "colab": {
      "name": "Gaussian variational posterior.ipynb",
      "version": "0.3.2",
      "provenance": [],
      "include_colab_link": true
    },
    "kernelspec": {
      "name": "python3",
      "display_name": "Python 3"
    }
  },
  "cells": [
    {
      "cell_type": "markdown",
      "metadata": {
        "id": "view-in-github",
        "colab_type": "text"
      },
      "source": [
        "<a href=\"https://colab.research.google.com/github/dsevero/generative-models/blob/master/experiments/Bayes-by-Backprop/notebooks/Gaussian_variational_posterior.ipynb\" target=\"_parent\"><img src=\"https://colab.research.google.com/assets/colab-badge.svg\" alt=\"Open In Colab\"/></a>"
      ]
    },
    {
      "cell_type": "code",
      "metadata": {
        "id": "P07ish8xqyXj",
        "colab_type": "code",
        "colab": {}
      },
      "source": [
        "%matplotlib inline"
      ],
      "execution_count": 0,
      "outputs": []
    },
    {
      "cell_type": "code",
      "metadata": {
        "id": "wxwZk50p393p",
        "colab_type": "code",
        "colab": {}
      },
      "source": [
        "from scipy.stats import multivariate_normal\n",
        "import numpy as np\n",
        "import matplotlib.pyplot as plt\n",
        "import seaborn as sns\n",
        "\n",
        "sns.set_style('white')"
      ],
      "execution_count": 0,
      "outputs": []
    },
    {
      "cell_type": "markdown",
      "metadata": {
        "id": "NdINJKn9h4lO",
        "colab_type": "text"
      },
      "source": [
        "$$\\mathbf{\\epsilon} \\sim \\mathcal{N}\\left(0,I\\right)$$\n",
        "$$w_i=\\mu + \\epsilon_i\\log(1 + exp(\\rho)) = \\mu + \\epsilon_i\\sigma$$\n",
        "$$ q_\\theta(w) = \\mathcal{N}\\left(w|\\mu,\\sigma^2\\right), \\forall w\\in\\mathbf{w}$$"
      ]
    },
    {
      "cell_type": "code",
      "metadata": {
        "id": "bg_YwDorCOn5",
        "colab_type": "code",
        "colab": {}
      },
      "source": [
        "# parameters\n",
        "θ = np.zeros(2)\n",
        "μ = θ[0]\n",
        "ρ = θ[1]"
      ],
      "execution_count": 0,
      "outputs": []
    },
    {
      "cell_type": "code",
      "metadata": {
        "id": "eQyJ-jc4EpWj",
        "colab_type": "code",
        "colab": {}
      },
      "source": [
        "def t(θ, ϵ):\n",
        "    μ = θ[0]\n",
        "    ρ = θ[1]\n",
        "    return μ + np.log(1 + np.exp(ρ))*ϵ\n",
        "\n",
        "ϵ = multivariate_normal(cov=np.eye(1)).rvs()\n",
        "w = t(θ, ϵ)"
      ],
      "execution_count": 0,
      "outputs": []
    },
    {
      "cell_type": "markdown",
      "metadata": {
        "id": "7RNZvWd5jvoP",
        "colab_type": "text"
      },
      "source": [
        "$$ f(\\mathbf{w}, \\theta) = \\log q_\\theta(\\mathbf{w}) - \\log P(\\mathbf{w})P(\\mathcal{D}|\\mathbf{w}) =\\log q_\\theta(\\mathbf{w}) -\\log P(\\mathbf{w}) - \\sum_{i=1}^{N}\\log P(d^{(i)}|\\mathbf{w}) $$\n",
        "\n",
        "Assuming a uniform prior on $P(\\mathbf{w})$ and a linear model $P(d^{(i)}|\\mathbf{w}) = \\mathcal{N}\\left(y^{(i)}|x^{(i)}, \\mathbf{w}\\right)$\n",
        "\n",
        "$$ f(\\mathbf{w}, \\theta) = \\sum_{w\\in\\mathbf{w}}\\log q_\\theta(w) - \\sum_{i=1}^{N}\\log P(d^{(i)}|\\mathbf{w}))$$"
      ]
    },
    {
      "cell_type": "code",
      "metadata": {
        "id": "1iJRzrIZofsI",
        "colab_type": "code",
        "colab": {
          "base_uri": "https://localhost:8080/",
          "height": 269
        },
        "outputId": "c8077f6c-a9e8-4b01-fd6f-f3f7ecb4fd14"
      },
      "source": [
        "x = multivariate_normal(cov=1).rvs(100)\n",
        "noise = multivariate_normal(cov=1).rvs(100)\n",
        "y = 1.5*x + noise\n",
        "sns.lineplot(x, y);"
      ],
      "execution_count": 80,
      "outputs": [
        {
          "output_type": "display_data",
          "data": {
            "image/png": "[encoded data removed]",
            "text/plain": [
              "<Figure size 432x288 with 1 Axes>"
            ]
          },
          "metadata": {
            "tags": []
          }
        }
      ]
    }
  ]
}
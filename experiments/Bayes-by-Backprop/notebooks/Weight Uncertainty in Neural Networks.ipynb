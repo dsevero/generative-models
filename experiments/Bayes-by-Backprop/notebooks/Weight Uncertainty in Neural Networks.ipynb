{
  "nbformat": 4,
  "nbformat_minor": 0,
  "metadata": {
    "colab": {
      "name": "Gaussian variational posterior.ipynb",
      "version": "0.3.2",
      "provenance": [],
      "include_colab_link": true
    },
    "kernelspec": {
      "name": "python3",
      "display_name": "Python 3"
    }
  },
  "cells": [
    {
      "cell_type": "markdown",
      "metadata": {
        "id": "view-in-github",
        "colab_type": "text"
      },
      "source": [
        "<a href=\"https://colab.research.google.com/github/dsevero/generative-models/blob/master/experiments/Bayes-by-Backprop/notebooks/Weight%20Uncertainty%20in%20Neural%20Networks.ipynb\" target=\"_parent\"><img src=\"https://colab.research.google.com/assets/colab-badge.svg\" alt=\"Open In Colab\"/></a>"
      ]
    },
    {
      "cell_type": "code",
      "metadata": {
        "id": "sZ-YtvloNGfC",
        "colab_type": "code",
        "colab": {}
      },
      "source": [
        "!pip install scipy==1.1.0 -q"
      ],
      "execution_count": 0,
      "outputs": []
    },
    {
      "cell_type": "code",
      "metadata": {
        "id": "T4x5T35eoXzh",
        "colab_type": "code",
        "colab": {}
      },
      "source": [
        "from autograd import grad\n",
        "from autograd.misc import flatten\n",
        "from autograd.misc.optimizers import adam, sgd\n",
        "import autograd.numpy as np\n",
        "import matplotlib.pyplot as plt\n",
        "import seaborn as sns\n",
        "import autograd.scipy.stats.norm as norm\n",
        "import pandas as pd\n",
        "import warnings\n",
        "\n",
        "warnings.simplefilter(action='ignore', category=FutureWarning)\n",
        "\n",
        "sns.set_style('white')\n",
        "π = np.pi"
      ],
      "execution_count": 0,
      "outputs": []
    },
    {
      "cell_type": "markdown",
      "metadata": {
        "id": "PsK1O6MrwPqZ",
        "colab_type": "text"
      },
      "source": [
        "# 5.2. Regression curves"
      ]
    },
    {
      "cell_type": "markdown",
      "metadata": {
        "id": "f9z50wgexqvJ",
        "colab_type": "text"
      },
      "source": [
        "$$ \\mathcal{D}=\\left\\{x,y\\right\\}=\\left\\{\\left(x^{(i)}, y^{(i)}\\right)\\right\\}_{i=1}^N$$\n",
        "$$ x,y \\in \\mathbb{R}^N $$"
      ]
    },
    {
      "cell_type": "markdown",
      "metadata": {
        "id": "IyEeiOppplVq",
        "colab_type": "text"
      },
      "source": [
        "$$y = x + 0.3 \\sin(2\\pi(x + \\epsilon)) + 0.3 sin(4\\pi(x + \\epsilon)) + \\epsilon$$"
      ]
    },
    {
      "cell_type": "code",
      "metadata": {
        "id": "ZDeiu2uIpw9_",
        "colab_type": "code",
        "colab": {
          "base_uri": "https://localhost:8080/",
          "height": 269
        },
        "outputId": "a1c34f06-3184-4255-fa3e-a166a59b75cb"
      },
      "source": [
        "def make_data(N):\n",
        "    def f(x):\n",
        "        ϵ = 0.02*np.random.randn(x.shape[0])\n",
        "        return x + 0.3*np.sin(2*π*(x + ϵ)) + 0.3*np.sin(4*π*(x + ϵ)) + ϵ\n",
        "    \n",
        "    x_train = np.linspace(0, 0.5, N)\n",
        "    x_test = np.linspace(0.5, 1.0, N)\n",
        "    y_train = f(x_train)\n",
        "    y_test = f(x_test)\n",
        "    \n",
        "    return x_train, y_train, x_test, y_test\n",
        "\n",
        "x_train, y_train, x_test, y_test = make_data(50)\n",
        "plt.plot(x_train, y_train, x_test, y_test);"
      ],
      "execution_count": 51,
      "outputs": [
        {
          "output_type": "display_data",
          "data": {
            "image/png": "[encoded data removed]",
            "text/plain": [
              "<Figure size 432x288 with 1 Axes>"
            ]
          },
          "metadata": {
            "tags": []
          }
        }
      ]
    },
    {
      "cell_type": "markdown",
      "metadata": {
        "id": "YXeVgxBBy7XC",
        "colab_type": "text"
      },
      "source": [
        "$$h = \\sigma(W_1x + b_1)$$\n",
        "$$\\hat{y} = W_2h + b_2 $$"
      ]
    },
    {
      "cell_type": "code",
      "metadata": {
        "id": "jJCam5QLvig2",
        "colab_type": "code",
        "colab": {}
      },
      "source": [
        "def relu(z):\n",
        "    return z*(z > 0)\n",
        "\n",
        "def init_random_params(input_size, \n",
        "                       hidden_layer_size,\n",
        "                       output_size,\n",
        "                       scale=1,\n",
        "                       seed=None):\n",
        "    rs = np.random.RandomState(seed)\n",
        "    \n",
        "    W1 = scale*rs.randn(hidden_layer_size, input_size)\n",
        "    b1 = scale*rs.randn(hidden_layer_size)\n",
        "    \n",
        "    W2 = scale*rs.randn(output_size, hidden_layer_size)\n",
        "    b2 = scale*rs.randn(output_size)\n",
        "    return W1, b1, W2, b2\n",
        "    \n",
        "\n",
        "def l2_regularization(params, λ):\n",
        "    params_flat, _ = flatten(params)\n",
        "    μ = params_flat\n",
        "    σ = λ\n",
        "    return norm.logpdf(μ, 0, σ).sum()\n",
        "\n",
        "\n",
        "def neural_net_predict(params, x):\n",
        "    \"\"\"Implements a shallow neural network for regression.\n",
        "       params is a list of (weights, bias) tuples.\n",
        "       inputs is an (N x D) matrix.\n",
        "       returns regression results.\"\"\"\n",
        "    W1, b1, W2, b2 = params\n",
        "    h = relu(np.dot(W1, x) + b1)\n",
        "    y_pred = relu(np.dot(W2, h) + b2)\n",
        "    return y_pred\n",
        "\n",
        "\n",
        "def log_likelihood(params, x: np.array, y: np.array, σ: float=0.1) -> float:\n",
        "    μ = neural_net_predict(params, x)\n",
        "    return norm.logpdf(μ, y, σ).sum()\n",
        "\n",
        "def loss(params, x: np.array, y: np.array, σ: float=0.1, λ=1) -> float:\n",
        "    return -log_likelihood(params, x, y, σ) - l2_regularization(params, λ)"
      ],
      "execution_count": 0,
      "outputs": []
    },
    {
      "cell_type": "markdown",
      "metadata": {
        "id": "nEzcCl_FWFIh",
        "colab_type": "text"
      },
      "source": [
        "## Tests"
      ]
    },
    {
      "cell_type": "code",
      "metadata": {
        "id": "O5J7SuhTYbd7",
        "colab_type": "code",
        "colab": {}
      },
      "source": [
        "W1, b1, W2, b2 = (np.eye(3), np.zeros(3),\n",
        "                  np.eye(3), np.zeros(3))\n",
        "params = (W1, b1, W2, b2)\n",
        "\n",
        "x = np.array([-1, 0, 1])\n",
        "y = np.array([0, 0, 1])\n",
        "σ = 1/np.sqrt(2*π)\n",
        "λ = σ\n",
        "\n",
        "# test neural_net_predict\n",
        "assert np.isclose(neural_net_predict(params, x), y).all()\n",
        "\n",
        "# test log_likelihood\n",
        "y_ = y + 1\n",
        "assert log_likelihood(params, x, y, σ) == 0\n",
        "assert np.isclose(log_likelihood(params, x, y_, σ), -3*π)\n",
        "\n",
        "# test l2_regularization\n",
        "assert np.isclose(l2_regularization(params, λ), -6*π)"
      ],
      "execution_count": 0,
      "outputs": []
    },
    {
      "cell_type": "markdown",
      "metadata": {
        "id": "RtzXSxxwEX6-",
        "colab_type": "text"
      },
      "source": [
        "## Learning"
      ]
    },
    {
      "cell_type": "markdown",
      "metadata": {
        "id": "iQwSRjDklpYN",
        "colab_type": "text"
      },
      "source": [
        "### Gradient Descent (GD)"
      ]
    },
    {
      "cell_type": "code",
      "metadata": {
        "colab_type": "code",
        "id": "yE9_-8LslfQ9",
        "colab": {}
      },
      "source": [
        "N = 1000\n",
        "x_train, y_train, x_test, y_test = make_data(N)\n",
        "input_size = x_train.shape[0]\n",
        "hidden_layer_size = 1_000\n",
        "output_size = y_train.shape[0]\n",
        "lr = 0.01\n",
        "λ = 10\n",
        "\n",
        "# compute gradient\n",
        "loss_grad = grad(loss)\n",
        "\n",
        "# init params\n",
        "params = init_random_params(input_size, hidden_layer_size, \n",
        "                            output_size, scale=0.01, seed=0)\n",
        "\n",
        "# Gradient Descent\n",
        "losses = list()\n",
        "for i in range(2_000):\n",
        "    loss_args = (params, x_train, y_train, 1, λ)\n",
        "    Δparams  = loss_grad(*loss_args)   \n",
        "    params = [p - Δp*lr for p, Δp in zip(params, Δparams)]\n",
        "    \n",
        "    losses.append(loss(*loss_args))\n",
        "\n",
        "# Plot\n",
        "plot_option = dict(\n",
        "    style='x', \n",
        "    figsize=(12,5),\n",
        "    ylim=(-0.5, 1.2),\n",
        "    xlim=(-0.1, 1.2)\n",
        ")\n",
        "\n",
        "\n",
        "y_pred = np.concatenate((neural_net_predict(params, x_train),\n",
        "                         neural_net_predict(params, x_test)))\n",
        "x_pred = np.concatenate((x_train, x_test))\n",
        "\n",
        "train = pd.Series(y_train, x_train).rename('train')\n",
        "test = pd.Series(y_test, x_test).rename('test')\n",
        "pred = pd.Series(y_pred, x_pred).rename('pred')\n",
        "\n",
        "pd.concat((train, test, pred), axis=1).plot(**plot_option);"
      ],
      "execution_count": 0,
      "outputs": []
    },
    {
      "cell_type": "markdown",
      "metadata": {
        "id": "oe95HoG5lNYm",
        "colab_type": "text"
      },
      "source": [
        "### SGD"
      ]
    },
    {
      "cell_type": "code",
      "metadata": {
        "id": "EJMo51XAsU1P",
        "colab_type": "code",
        "colab": {}
      },
      "source": [
        "# data\n",
        "N = 1000\n",
        "x_train, y_train, x_test, y_test = make_data(N)\n",
        "input_size = x_train.shape[0]\n",
        "hidden_layer_size = 50\n",
        "output_size = y_train.shape[0]\n",
        "λ = 2\n",
        "\n",
        "# init params\n",
        "params_init = init_random_params(input_size, hidden_layer_size, \n",
        "                                 output_size, scale=0.01, seed=0)\n",
        "\n",
        "\n",
        "\n",
        "def objective(params, t):\n",
        "    return loss(params, x, y, σ=0.1, λ=1)\n",
        "\n",
        "optimized_params = adam(grad(objective), params_init,\n",
        "                        step_size=0.01, num_iters=1000)"
      ],
      "execution_count": 0,
      "outputs": []
    }
  ]
}
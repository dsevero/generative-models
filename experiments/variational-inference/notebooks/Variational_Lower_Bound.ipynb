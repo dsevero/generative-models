{
  "nbformat": 4,
  "nbformat_minor": 0,
  "metadata": {
    "colab": {
      "name": "Variational Lower Bound.ipynb",
      "version": "0.3.2",
      "provenance": [],
      "include_colab_link": true
    },
    "kernelspec": {
      "name": "python3",
      "display_name": "Python 3"
    }
  },
  "cells": [
    {
      "cell_type": "markdown",
      "metadata": {
        "id": "view-in-github",
        "colab_type": "text"
      },
      "source": [
        "<a href=\"https://colab.research.google.com/github/dsevero/generative-models/blob/master/experiments/variational-inference/notebooks/Variational_Lower_Bound.ipynb\" target=\"_parent\"><img src=\"https://colab.research.google.com/assets/colab-badge.svg\" alt=\"Open In Colab\"/></a>"
      ]
    },
    {
      "cell_type": "markdown",
      "metadata": {
        "id": "LtwiBgIJcFiu",
        "colab_type": "text"
      },
      "source": [
        "In this cell we define some LaTeX `\\newcommand`s (they will remain invisible.)\n",
        "\n",
        "$$\\newcommand{\\xn}{x^{(n)}}$$\n",
        "$$\\newcommand{\\zn}{z^{(n)}}$$\n",
        "$$\\newcommand{\\norm}{\\mathcal{N}}$$\n",
        "$$\\newcommand{\\lp}{\\left(}$$\n",
        "$$\\newcommand{\\rp}{\\right)}$$"
      ]
    },
    {
      "cell_type": "markdown",
      "metadata": {
        "id": "1awETqPv_FLh",
        "colab_type": "text"
      },
      "source": [
        "The objective of this notebook is the **study methods for maximizing the Evidence Lower Bound**. Consider the following probabilistic graphical model consisting of one observed continuous variable $x$ and another hidden discrete variable $z$.\n",
        "\n",
        "We assume a true joint density  (which we **do not** have acess to)\n",
        "\n",
        "$$t(x,z) = t(x|z)t(z) = \\norm(x; \\mu_z, \\sigma^2)t(z) $$\n",
        "\n",
        "which implies a gaussian mixture on the marginal density of $x$, \n",
        "\n",
        "$$t(x) = \\sum_z\\norm(x; \\mu_z, \\sigma^2)t(z)$$\n",
        "\n",
        "\n",
        "What we have access to are $N$ samples of $t(x)$ in the form of a vector $D = \\left\\{x^{(n)}\\right\\}_{n=1}^N$"
      ]
    },
    {
      "cell_type": "code",
      "metadata": {
        "id": "r0SNIcwJIYHP",
        "colab_type": "code",
        "colab": {
          "base_uri": "https://localhost:8080/",
          "height": 85
        },
        "outputId": "14841c4c-7bd6-472c-d41e-c7d5c955f4b2"
      },
      "source": [
        "!pip install --upgrade --quiet autograd\n",
        "!pip install --quiet scipy==1.1.0 # needed for autograd compatibility\n",
        "!pip freeze | grep -E \"^autograd==|^pandas==|^numpy==|^scipy==\""
      ],
      "execution_count": 1,
      "outputs": [
        {
          "output_type": "stream",
          "text": [
            "autograd==1.2\n",
            "numpy==1.16.4\n",
            "pandas==0.24.2\n",
            "scipy==1.1.0\n"
          ],
          "name": "stdout"
        }
      ]
    },
    {
      "cell_type": "code",
      "metadata": {
        "id": "8VEYR9ei_RXX",
        "colab_type": "code",
        "colab": {}
      },
      "source": [
        "import numpy as np\n",
        "import scipy.stats as stats\n",
        "import matplotlib.pyplot as plt\n",
        "import pandas as pd"
      ],
      "execution_count": 0,
      "outputs": []
    },
    {
      "cell_type": "code",
      "metadata": {
        "id": "kibFuKrNImNL",
        "colab_type": "code",
        "colab": {
          "base_uri": "https://localhost:8080/",
          "height": 269
        },
        "outputId": "211d0a64-e2c1-4f68-aa1b-28df78fb5529"
      },
      "source": [
        "def sample_mixture(locs, scales=None, prior_weights=None, n_samples=1):\n",
        "    \n",
        "    locs = np.array(locs)\n",
        "    \n",
        "    # handle default values\n",
        "    scales = np.array(scales) if scales else np.ones_like(locs)\n",
        "    prior_weights = prior_weights or np.ones_like(locs)\n",
        "    \n",
        "    # compute prior probabilities from prior_weights\n",
        "    prior_probs = np.array(prior_weights)/np.sum(prior_weights)\n",
        "    \n",
        "    # sample mixture classes\n",
        "    indices = np.arange(locs.shape[0])\n",
        "    indices_samples = np.random.choice(indices, size=n_samples, p=prior_probs)\n",
        "    return pd.Series(locs[indices_samples] + \n",
        "                     scales[indices_samples]*stats.norm().rvs(n_samples))\n",
        "\n",
        "\n",
        "x_samples = sample_mixture([-1, 0, 1], scales=3*[0.1], n_samples=1_000)\n",
        "x_samples.plot.kde();"
      ],
      "execution_count": 3,
      "outputs": [
        {
          "output_type": "display_data",
          "data": {
            "image/png": "[encoded data removed]",
            "text/plain": [
              "<Figure size 432x288 with 1 Axes>"
            ]
          },
          "metadata": {
            "tags": []
          }
        }
      ]
    },
    {
      "cell_type": "markdown",
      "metadata": {
        "id": "meDpo2i0wUSt",
        "colab_type": "text"
      },
      "source": [
        ""
      ]
    }
  ]
}